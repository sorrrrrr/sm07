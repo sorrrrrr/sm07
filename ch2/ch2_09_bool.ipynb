{
  "nbformat": 4,
  "nbformat_minor": 0,
  "metadata": {
    "colab": {
      "name": "ch2_09_bool.ipynb",
      "provenance": [],
      "include_colab_link": true
    },
    "kernelspec": {
      "name": "python3",
      "display_name": "Python 3"
    }
  },
  "cells": [
    {
      "cell_type": "markdown",
      "metadata": {
        "id": "view-in-github",
        "colab_type": "text"
      },
      "source": [
        "<a href=\"https://colab.research.google.com/github/sorrrrrr/sm07/blob/master/ch2/ch2_09_bool.ipynb\" target=\"_parent\"><img src=\"https://colab.research.google.com/assets/colab-badge.svg\" alt=\"Open In Colab\"/></a>"
      ]
    },
    {
      "cell_type": "markdown",
      "metadata": {
        "id": "rX3SaGoh4WZA",
        "colab_type": "text"
      },
      "source": [
        "ch2_09_bool.py"
      ]
    },
    {
      "cell_type": "markdown",
      "metadata": {
        "id": "3UoNyRfl4Zww",
        "colab_type": "text"
      },
      "source": [
        "**불 : 불 자료형**"
      ]
    },
    {
      "cell_type": "code",
      "metadata": {
        "id": "cpjCT1HZ4S4v",
        "colab_type": "code",
        "colab": {
          "base_uri": "https://localhost:8080/",
          "height": 35
        },
        "outputId": "2dbedc4c-5561-4601-98d0-59ecab52f90a"
      },
      "source": [
        "a = True\n",
        "b = False\n",
        "type(a), type(b)"
      ],
      "execution_count": 1,
      "outputs": [
        {
          "output_type": "execute_result",
          "data": {
            "text/plain": [
              "(bool, bool)"
            ]
          },
          "metadata": {
            "tags": []
          },
          "execution_count": 1
        }
      ]
    },
    {
      "cell_type": "markdown",
      "metadata": {
        "id": "zoPw5_yO4hxy",
        "colab_type": "text"
      },
      "source": [
        "참과 거짓"
      ]
    },
    {
      "cell_type": "code",
      "metadata": {
        "id": "Y6Dmig9j4u1G",
        "colab_type": "code",
        "colab": {
          "base_uri": "https://localhost:8080/",
          "height": 215
        },
        "outputId": "d4e63d2f-9588-4058-86db-636c370042d6"
      },
      "source": [
        "print(bool(\"python\"))\n",
        "print(bool(\"\"))\n",
        "print(bool([1, 2, 3]))\n",
        "print(bool([2, 3]))\n",
        "print(bool([]))\n",
        "print(bool(()))\n",
        "print(bool({}))\n",
        "print(bool(1))\n",
        "print(bool(0))\n",
        "print(bool(None))\n",
        "print(bool(-99))"
      ],
      "execution_count": 8,
      "outputs": [
        {
          "output_type": "stream",
          "text": [
            "True\n",
            "False\n",
            "True\n",
            "True\n",
            "False\n",
            "False\n",
            "False\n",
            "True\n",
            "False\n",
            "False\n",
            "True\n"
          ],
          "name": "stdout"
        }
      ]
    },
    {
      "cell_type": "markdown",
      "metadata": {
        "id": "IBu5stDX4-sZ",
        "colab_type": "text"
      },
      "source": [
        "불 값을 이용한 코드"
      ]
    },
    {
      "cell_type": "code",
      "metadata": {
        "id": "g6AkuAUI5AtF",
        "colab_type": "code",
        "colab": {
          "base_uri": "https://localhost:8080/",
          "height": 89
        },
        "outputId": "cc2974f9-80dc-424d-eed4-3ee1083bf388"
      },
      "source": [
        "a = [1, 2, 3, 4]\n",
        "while a:\n",
        "    print(a.pop())"
      ],
      "execution_count": 9,
      "outputs": [
        {
          "output_type": "stream",
          "text": [
            "4\n",
            "3\n",
            "2\n",
            "1\n"
          ],
          "name": "stdout"
        }
      ]
    },
    {
      "cell_type": "code",
      "metadata": {
        "id": "pD3-yWkR5Eed",
        "colab_type": "code",
        "colab": {
          "base_uri": "https://localhost:8080/",
          "height": 35
        },
        "outputId": "fba8a282-0e7e-47bf-8f71-b03b494cbdb2"
      },
      "source": [
        "if []:\n",
        "    print(\"참\")\n",
        "else:\n",
        "    print(\"거짓\")\n",
        "\n",
        "    "
      ],
      "execution_count": 10,
      "outputs": [
        {
          "output_type": "stream",
          "text": [
            "거짓\n"
          ],
          "name": "stdout"
        }
      ]
    },
    {
      "cell_type": "markdown",
      "metadata": {
        "id": "uY97AKPO5KRH",
        "colab_type": "text"
      },
      "source": [
        "Representation error\n",
        "double precision representation of floating-point numbers"
      ]
    },
    {
      "cell_type": "code",
      "metadata": {
        "id": "tY9agPSR5NEU",
        "colab_type": "code",
        "colab": {}
      },
      "source": [
        "1-0.9\n",
        "# 0.09999999999999998\n",
        "1-0.9==.1\n",
        "# false"
      ],
      "execution_count": 0,
      "outputs": []
    },
    {
      "cell_type": "code",
      "metadata": {
        "id": "d9nCajB75ZT3",
        "colab_type": "code",
        "colab": {
          "base_uri": "https://localhost:8080/",
          "height": 71
        },
        "outputId": "31908f8e-5e6d-4bc0-ad02-3e7e853371d8"
      },
      "source": [
        "import decimal\n",
        "x=decimal.Decimal(3.14)\n",
        "y=decimal.Decimal(2.74)\n",
        "print(x,y)\n",
        "\n",
        "print(x*y)\n",
        "# Decimal('8.603600000000001010036498883')\n",
        "decimal.getcontext().prec=4\n",
        "print(x*y)"
      ],
      "execution_count": 11,
      "outputs": [
        {
          "output_type": "stream",
          "text": [
            "3.140000000000000124344978758017532527446746826171875 2.7400000000000002131628207280300557613372802734375\n",
            "8.603600000000001010036498883\n",
            "8.604\n"
          ],
          "name": "stdout"
        }
      ]
    }
  ]
}