{
  "nbformat": 4,
  "nbformat_minor": 0,
  "metadata": {
    "colab": {
      "name": "ch2_08_set.ipynb",
      "provenance": [],
      "include_colab_link": true
    },
    "kernelspec": {
      "name": "python3",
      "display_name": "Python 3"
    }
  },
  "cells": [
    {
      "cell_type": "markdown",
      "metadata": {
        "id": "view-in-github",
        "colab_type": "text"
      },
      "source": [
        "<a href=\"https://colab.research.google.com/github/sorrrrrr/sm07/blob/master/ch2/ch2_08_set.ipynb\" target=\"_parent\"><img src=\"https://colab.research.google.com/assets/colab-badge.svg\" alt=\"Open In Colab\"/></a>"
      ]
    },
    {
      "cell_type": "markdown",
      "metadata": {
        "id": "gq9mSk712P6v",
        "colab_type": "text"
      },
      "source": [
        "ch2_08_set.py"
      ]
    },
    {
      "cell_type": "markdown",
      "metadata": {
        "id": "DuwY7sMr2S64",
        "colab_type": "text"
      },
      "source": [
        "**집합 : 집합(set)**"
      ]
    },
    {
      "cell_type": "markdown",
      "metadata": {
        "id": "EQWqfp932YwJ",
        "colab_type": "text"
      },
      "source": [
        "set 키워드를 사용해서 집합 자료형을 만든다"
      ]
    },
    {
      "cell_type": "code",
      "metadata": {
        "id": "TyDC3k_q14uZ",
        "colab_type": "code",
        "colab": {
          "base_uri": "https://localhost:8080/",
          "height": 71
        },
        "outputId": "40d06968-b158-4ca2-d0af-718b4d953677"
      },
      "source": [
        "s1 = set([1, 2, 3])\n",
        "print(s1)\n",
        "s1n = set([1, 2, 3, 2])\n",
        "print(s1n)\n",
        "s2 = set(\"Hello\")\n",
        "s2"
      ],
      "execution_count": 1,
      "outputs": [
        {
          "output_type": "stream",
          "text": [
            "{1, 2, 3}\n",
            "{1, 2, 3}\n"
          ],
          "name": "stdout"
        },
        {
          "output_type": "execute_result",
          "data": {
            "text/plain": [
              "{'H', 'e', 'l', 'o'}"
            ]
          },
          "metadata": {
            "tags": []
          },
          "execution_count": 1
        }
      ]
    },
    {
      "cell_type": "code",
      "metadata": {
        "id": "DdiUoasV2ncF",
        "colab_type": "code",
        "colab": {
          "base_uri": "https://localhost:8080/",
          "height": 53
        },
        "outputId": "b4eae266-1289-4542-ec14-e13d9955a6c1"
      },
      "source": [
        "s1 = set([1,2,3])\n",
        "# s1[0] Error\n",
        "l1=list(s1)\n",
        "print(l1)\n",
        "print(l1[0])"
      ],
      "execution_count": 4,
      "outputs": [
        {
          "output_type": "stream",
          "text": [
            "[1, 2, 3]\n",
            "1\n"
          ],
          "name": "stdout"
        }
      ]
    },
    {
      "cell_type": "code",
      "metadata": {
        "id": "8d1qVt4Z27_8",
        "colab_type": "code",
        "colab": {
          "base_uri": "https://localhost:8080/",
          "height": 53
        },
        "outputId": "5f0930b8-668a-4fa8-e472-4520ba4ec1b7"
      },
      "source": [
        "t1=tuple(s1)\n",
        "print(t1)\n",
        "t1[0]"
      ],
      "execution_count": 6,
      "outputs": [
        {
          "output_type": "stream",
          "text": [
            "(1, 2, 3)\n"
          ],
          "name": "stdout"
        },
        {
          "output_type": "execute_result",
          "data": {
            "text/plain": [
              "1"
            ]
          },
          "metadata": {
            "tags": []
          },
          "execution_count": 6
        }
      ]
    },
    {
      "cell_type": "markdown",
      "metadata": {
        "id": "ZX_IqPkM2-kK",
        "colab_type": "text"
      },
      "source": [
        "교집합, 합집합, 차집합 구하기"
      ]
    },
    {
      "cell_type": "code",
      "metadata": {
        "id": "Bi_rVumj3ArM",
        "colab_type": "code",
        "colab": {}
      },
      "source": [
        "s1 = set([1, 2, 3, 4, 5, 6])\n",
        "s2 = set([4, 5, 6, 7, 8, 9])"
      ],
      "execution_count": 0,
      "outputs": []
    },
    {
      "cell_type": "markdown",
      "metadata": {
        "id": "dWSYCfOp3DIq",
        "colab_type": "text"
      },
      "source": [
        "교집합"
      ]
    },
    {
      "cell_type": "code",
      "metadata": {
        "id": "sF0IIXBS3EK5",
        "colab_type": "code",
        "colab": {
          "base_uri": "https://localhost:8080/",
          "height": 53
        },
        "outputId": "6375f45c-99c2-4d4a-8f89-640095dac4d2"
      },
      "source": [
        "print(s1 & s2)\n",
        "s1.intersection(s2)"
      ],
      "execution_count": 8,
      "outputs": [
        {
          "output_type": "stream",
          "text": [
            "{4, 5, 6}\n"
          ],
          "name": "stdout"
        },
        {
          "output_type": "execute_result",
          "data": {
            "text/plain": [
              "{4, 5, 6}"
            ]
          },
          "metadata": {
            "tags": []
          },
          "execution_count": 8
        }
      ]
    },
    {
      "cell_type": "markdown",
      "metadata": {
        "id": "WNCfcMv73He8",
        "colab_type": "text"
      },
      "source": [
        "합집합"
      ]
    },
    {
      "cell_type": "code",
      "metadata": {
        "id": "zSyg-6IY3ISV",
        "colab_type": "code",
        "colab": {
          "base_uri": "https://localhost:8080/",
          "height": 53
        },
        "outputId": "33584c21-5ba8-4da6-e3a3-954be87ca8fd"
      },
      "source": [
        "print(s1 | s2)\n",
        "s1.union(s2)"
      ],
      "execution_count": 9,
      "outputs": [
        {
          "output_type": "stream",
          "text": [
            "{1, 2, 3, 4, 5, 6, 7, 8, 9}\n"
          ],
          "name": "stdout"
        },
        {
          "output_type": "execute_result",
          "data": {
            "text/plain": [
              "{1, 2, 3, 4, 5, 6, 7, 8, 9}"
            ]
          },
          "metadata": {
            "tags": []
          },
          "execution_count": 9
        }
      ]
    },
    {
      "cell_type": "markdown",
      "metadata": {
        "id": "KbDWlre-3Lnc",
        "colab_type": "text"
      },
      "source": [
        "차집합"
      ]
    },
    {
      "cell_type": "code",
      "metadata": {
        "id": "FJsKj6Zk3MRV",
        "colab_type": "code",
        "colab": {
          "base_uri": "https://localhost:8080/",
          "height": 89
        },
        "outputId": "86c83d1a-9871-4b3e-d593-bc3c1ac1abdc"
      },
      "source": [
        "print(s1 - s2)\n",
        "print(s2 - s1)\n",
        "print(s1.difference(s2))\n",
        "print(s2.difference(s1))"
      ],
      "execution_count": 10,
      "outputs": [
        {
          "output_type": "stream",
          "text": [
            "{1, 2, 3}\n",
            "{8, 9, 7}\n",
            "{1, 2, 3}\n",
            "{8, 9, 7}\n"
          ],
          "name": "stdout"
        }
      ]
    },
    {
      "cell_type": "markdown",
      "metadata": {
        "id": "NcPDHHBK3SpC",
        "colab_type": "text"
      },
      "source": [
        "**집합(set) : 관련 내장 함수들**"
      ]
    },
    {
      "cell_type": "markdown",
      "metadata": {
        "id": "tck8Evvu3ZX5",
        "colab_type": "text"
      },
      "source": [
        "값 1개 추가하기"
      ]
    },
    {
      "cell_type": "code",
      "metadata": {
        "id": "vJ7Cn1B03WDv",
        "colab_type": "code",
        "colab": {
          "base_uri": "https://localhost:8080/",
          "height": 35
        },
        "outputId": "cf6b1b7e-8369-4fbd-809f-29ea9c75028a"
      },
      "source": [
        "s1 = set([1, 2, 3])\n",
        "s1.add(4)\n",
        "s1"
      ],
      "execution_count": 11,
      "outputs": [
        {
          "output_type": "execute_result",
          "data": {
            "text/plain": [
              "{1, 2, 3, 4}"
            ]
          },
          "metadata": {
            "tags": []
          },
          "execution_count": 11
        }
      ]
    },
    {
      "cell_type": "markdown",
      "metadata": {
        "id": "XM4Yx1KI3cQ_",
        "colab_type": "text"
      },
      "source": [
        " 값 여러 개 추가하기"
      ]
    },
    {
      "cell_type": "code",
      "metadata": {
        "id": "1bfQpUIF3dxm",
        "colab_type": "code",
        "colab": {
          "base_uri": "https://localhost:8080/",
          "height": 53
        },
        "outputId": "d21479fb-28d8-40f2-e60f-177eeff94e69"
      },
      "source": [
        "s1 = set([1, 2, 3])\n",
        "s1.update([4,5,6])\n",
        "print(s1)\n",
        "s1.add(5)\n",
        "print(s1)"
      ],
      "execution_count": 12,
      "outputs": [
        {
          "output_type": "stream",
          "text": [
            "{1, 2, 3, 4, 5, 6}\n",
            "{1, 2, 3, 4, 5, 6}\n"
          ],
          "name": "stdout"
        }
      ]
    },
    {
      "cell_type": "markdown",
      "metadata": {
        "id": "yQwpHjLR3iO0",
        "colab_type": "text"
      },
      "source": [
        "특정 값 제거하기"
      ]
    },
    {
      "cell_type": "code",
      "metadata": {
        "id": "cgwXuab93jlX",
        "colab_type": "code",
        "colab": {
          "base_uri": "https://localhost:8080/",
          "height": 35
        },
        "outputId": "ee958742-5edc-448e-b78b-138e9741b1ed"
      },
      "source": [
        "s1 = set([1, 2, 3])\n",
        "s1.remove(2)\n",
        "s1"
      ],
      "execution_count": 13,
      "outputs": [
        {
          "output_type": "execute_result",
          "data": {
            "text/plain": [
              "{1, 3}"
            ]
          },
          "metadata": {
            "tags": []
          },
          "execution_count": 13
        }
      ]
    },
    {
      "cell_type": "markdown",
      "metadata": {
        "id": "DfbsHYDR3ncu",
        "colab_type": "text"
      },
      "source": [
        "frozenset()  immutable set"
      ]
    },
    {
      "cell_type": "code",
      "metadata": {
        "id": "SfVR0WKR3uhn",
        "colab_type": "code",
        "colab": {
          "base_uri": "https://localhost:8080/",
          "height": 208
        },
        "outputId": "f6ac458a-0f4c-49af-e323-b9a755b3ffa6"
      },
      "source": [
        "small_primes = frozenset([2, 3, 5, 7])\n",
        "bigger_primes = frozenset([5, 7, 11])\n",
        "small_primes.add(11)"
      ],
      "execution_count": 14,
      "outputs": [
        {
          "output_type": "error",
          "ename": "AttributeError",
          "evalue": "ignored",
          "traceback": [
            "\u001b[0;31m---------------------------------------------------------------------------\u001b[0m",
            "\u001b[0;31mAttributeError\u001b[0m                            Traceback (most recent call last)",
            "\u001b[0;32m<ipython-input-14-593f5c2f3b02>\u001b[0m in \u001b[0;36m<module>\u001b[0;34m()\u001b[0m\n\u001b[1;32m      1\u001b[0m \u001b[0msmall_primes\u001b[0m \u001b[0;34m=\u001b[0m \u001b[0mfrozenset\u001b[0m\u001b[0;34m(\u001b[0m\u001b[0;34m[\u001b[0m\u001b[0;36m2\u001b[0m\u001b[0;34m,\u001b[0m \u001b[0;36m3\u001b[0m\u001b[0;34m,\u001b[0m \u001b[0;36m5\u001b[0m\u001b[0;34m,\u001b[0m \u001b[0;36m7\u001b[0m\u001b[0;34m]\u001b[0m\u001b[0;34m)\u001b[0m\u001b[0;34m\u001b[0m\u001b[0;34m\u001b[0m\u001b[0m\n\u001b[1;32m      2\u001b[0m \u001b[0mbigger_primes\u001b[0m \u001b[0;34m=\u001b[0m \u001b[0mfrozenset\u001b[0m\u001b[0;34m(\u001b[0m\u001b[0;34m[\u001b[0m\u001b[0;36m5\u001b[0m\u001b[0;34m,\u001b[0m \u001b[0;36m7\u001b[0m\u001b[0;34m,\u001b[0m \u001b[0;36m11\u001b[0m\u001b[0;34m]\u001b[0m\u001b[0;34m)\u001b[0m\u001b[0;34m\u001b[0m\u001b[0;34m\u001b[0m\u001b[0m\n\u001b[0;32m----> 3\u001b[0;31m \u001b[0msmall_primes\u001b[0m\u001b[0;34m.\u001b[0m\u001b[0madd\u001b[0m\u001b[0;34m(\u001b[0m\u001b[0;36m11\u001b[0m\u001b[0;34m)\u001b[0m\u001b[0;34m\u001b[0m\u001b[0;34m\u001b[0m\u001b[0m\n\u001b[0m",
            "\u001b[0;31mAttributeError\u001b[0m: 'frozenset' object has no attribute 'add'"
          ]
        }
      ]
    },
    {
      "cell_type": "code",
      "metadata": {
        "id": "_8Y1QNgn3z-m",
        "colab_type": "code",
        "colab": {
          "base_uri": "https://localhost:8080/",
          "height": 208
        },
        "outputId": "054f4d31-b8f5-465d-95dc-a6890cf91c60"
      },
      "source": [
        "small_primes.remove(2) \n",
        "\n",
        "small_primes & bigger_primes "
      ],
      "execution_count": 15,
      "outputs": [
        {
          "output_type": "error",
          "ename": "AttributeError",
          "evalue": "ignored",
          "traceback": [
            "\u001b[0;31m---------------------------------------------------------------------------\u001b[0m",
            "\u001b[0;31mAttributeError\u001b[0m                            Traceback (most recent call last)",
            "\u001b[0;32m<ipython-input-15-576d06ec01fd>\u001b[0m in \u001b[0;36m<module>\u001b[0;34m()\u001b[0m\n\u001b[0;32m----> 1\u001b[0;31m \u001b[0msmall_primes\u001b[0m\u001b[0;34m.\u001b[0m\u001b[0mremove\u001b[0m\u001b[0;34m(\u001b[0m\u001b[0;36m2\u001b[0m\u001b[0;34m)\u001b[0m\u001b[0;34m\u001b[0m\u001b[0;34m\u001b[0m\u001b[0m\n\u001b[0m\u001b[1;32m      2\u001b[0m \u001b[0;34m\u001b[0m\u001b[0m\n\u001b[1;32m      3\u001b[0m \u001b[0msmall_primes\u001b[0m \u001b[0;34m&\u001b[0m \u001b[0mbigger_primes\u001b[0m\u001b[0;34m\u001b[0m\u001b[0;34m\u001b[0m\u001b[0m\n",
            "\u001b[0;31mAttributeError\u001b[0m: 'frozenset' object has no attribute 'remove'"
          ]
        }
      ]
    },
    {
      "cell_type": "markdown",
      "metadata": {
        "id": "HMw2Ih-a30z6",
        "colab_type": "text"
      },
      "source": [
        ""
      ]
    }
  ]
}