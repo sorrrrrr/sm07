{
  "nbformat": 4,
  "nbformat_minor": 0,
  "metadata": {
    "colab": {
      "name": "sm07_exam_mid의 사본",
      "provenance": [],
      "collapsed_sections": [],
      "include_colab_link": true
    },
    "kernelspec": {
      "display_name": "Python 3",
      "language": "python",
      "name": "python3"
    }
  },
  "cells": [
    {
      "cell_type": "markdown",
      "metadata": {
        "id": "view-in-github",
        "colab_type": "text"
      },
      "source": [
        "<a href=\"https://colab.research.google.com/github/sorrrrrr/sm07/blob/master/sm07_exam_mid%EC%9D%98_%EC%82%AC%EB%B3%B8.ipynb\" target=\"_parent\"><img src=\"https://colab.research.google.com/assets/colab-badge.svg\" alt=\"Open In Colab\"/></a>"
      ]
    },
    {
      "cell_type": "markdown",
      "metadata": {
        "colab_type": "text",
        "id": "jXMg8Cv_Q0bM"
      },
      "source": [
        "# 중간필기시험: 고급시뮬레이션 (2019.10.25)\n",
        "- 문제에 배점이 표시되어 있음. (기본 배점은 1, 총 32점)"
      ]
    },
    {
      "cell_type": "markdown",
      "metadata": {
        "id": "Rc8uW2C1MAyp",
        "colab_type": "text"
      },
      "source": [
        "***"
      ]
    },
    {
      "cell_type": "markdown",
      "metadata": {
        "colab_type": "text",
        "id": "aqPJkzsTW4An"
      },
      "source": [
        "### # [1] 다음 식의 연산 결과는?\n",
        "\n",
        "```\n",
        "a = 3\n",
        "b = 4\n",
        "a**b  \n",
        "```\n"
      ]
    },
    {
      "cell_type": "code",
      "metadata": {
        "id": "gRXycPmLVpP-",
        "colab_type": "code",
        "outputId": "c5846d70-ace0-410b-9b71-380a9566b19b",
        "colab": {
          "base_uri": "https://localhost:8080/",
          "height": 34
        }
      },
      "source": [
        "a = 3\n",
        "b = 4\n",
        "a**b"
      ],
      "execution_count": 0,
      "outputs": [
        {
          "output_type": "execute_result",
          "data": {
            "text/plain": [
              "81"
            ]
          },
          "metadata": {
            "tags": []
          },
          "execution_count": 1
        }
      ]
    },
    {
      "cell_type": "markdown",
      "metadata": {
        "colab_type": "text",
        "id": "0l2hcxDHYB_s"
      },
      "source": [
        "### # [2-3] 다음 문자열 a 에 대하여 인덱싱과 슬라이싱을 한 결괴는? \n",
        "\n",
        "\n",
        "```\n",
        "a = \"Life is too short, You need Python!\"\n",
        "\n",
        "print(a[-16])   # 문제[2]\n",
        "\n",
        "# \n",
        "\n",
        "a[23:-8]       # 문제[3] \n",
        "\n",
        "```"
      ]
    },
    {
      "cell_type": "code",
      "metadata": {
        "id": "vKROWgSZZobu",
        "colab_type": "code",
        "outputId": "2ef04579-af3e-49ef-a857-127155ad1706",
        "colab": {
          "base_uri": "https://localhost:8080/",
          "height": 52
        }
      },
      "source": [
        "a = \"Life is too short, You need Python!\"\n",
        " \n",
        "print(a[-16])\n",
        "a[23:-8] "
      ],
      "execution_count": 0,
      "outputs": [
        {
          "output_type": "stream",
          "text": [
            "Y\n"
          ],
          "name": "stdout"
        },
        {
          "output_type": "execute_result",
          "data": {
            "text/plain": [
              "'need'"
            ]
          },
          "metadata": {
            "tags": []
          },
          "execution_count": 2
        }
      ]
    },
    {
      "cell_type": "markdown",
      "metadata": {
        "id": "6A6wwwuSYUB7",
        "colab_type": "text"
      },
      "source": [
        "\n",
        "\n",
        "---\n",
        "\n"
      ]
    },
    {
      "cell_type": "markdown",
      "metadata": {
        "colab_type": "text",
        "id": "UhMFzra8YYwa"
      },
      "source": [
        "### # [4] 다음의 결과가 출력되지 않는 것은?\n",
        "\n",
        "'I ate 10 apples. so I was sick for three days.'\n",
        "\n",
        "\n",
        "```\n",
        "# code start\n",
        "number = 10\n",
        "day = \"three\"\n",
        "\n",
        "A. \"I ate {0} apples. so I was sick for {1} days.\".format(10, day)\n",
        "B. f\"I ate {number} apples. so I was sick for {day} days.\"\n",
        "C. f\"I ate {number} apples. so I was sick for {'three'} days.\"\n",
        "D. \"I ate {0} apples. so I was sick for {1} days.\".format(number=10, day)\n",
        "\n",
        "```"
      ]
    },
    {
      "cell_type": "code",
      "metadata": {
        "id": "WjIGOYAuZvGt",
        "colab_type": "code",
        "outputId": "9eedb928-0387-448b-cc71-13067683ef8a",
        "colab": {
          "base_uri": "https://localhost:8080/",
          "height": 223
        }
      },
      "source": [
        "print(\"I ate {0} apples. so I was sick for {1} days.\".format(10, day))\n",
        "print(f\"I ate {number} apples. so I was sick for {day} days.\")\n",
        "print(f\"I ate {number} apples. so I was sick for {'three'} days.\")\n",
        "##\"I ate {0} apples. so I was sick for {1} days.\".format(number=10, day)"
      ],
      "execution_count": 0,
      "outputs": [
        {
          "output_type": "error",
          "ename": "NameError",
          "evalue": "ignored",
          "traceback": [
            "\u001b[0;31m---------------------------------------------------------------------------\u001b[0m",
            "\u001b[0;31mNameError\u001b[0m                                 Traceback (most recent call last)",
            "\u001b[0;32m<ipython-input-3-567c4f671579>\u001b[0m in \u001b[0;36m<module>\u001b[0;34m()\u001b[0m\n\u001b[0;32m----> 1\u001b[0;31m \u001b[0mprint\u001b[0m\u001b[0;34m(\u001b[0m\u001b[0;34m\"I ate {0} apples. so I was sick for {1} days.\"\u001b[0m\u001b[0;34m.\u001b[0m\u001b[0mformat\u001b[0m\u001b[0;34m(\u001b[0m\u001b[0;36m10\u001b[0m\u001b[0;34m,\u001b[0m \u001b[0mday\u001b[0m\u001b[0;34m)\u001b[0m\u001b[0;34m)\u001b[0m\u001b[0;34m\u001b[0m\u001b[0;34m\u001b[0m\u001b[0m\n\u001b[0m\u001b[1;32m      2\u001b[0m \u001b[0mprint\u001b[0m\u001b[0;34m(\u001b[0m\u001b[0;34mf\"I ate {number} apples. so I was sick for {day} days.\"\u001b[0m\u001b[0;34m)\u001b[0m\u001b[0;34m\u001b[0m\u001b[0;34m\u001b[0m\u001b[0m\n\u001b[1;32m      3\u001b[0m \u001b[0mprint\u001b[0m\u001b[0;34m(\u001b[0m\u001b[0;34mf\"I ate {number} apples. so I was sick for {'three'} days.\"\u001b[0m\u001b[0;34m)\u001b[0m\u001b[0;34m\u001b[0m\u001b[0;34m\u001b[0m\u001b[0m\n\u001b[1;32m      4\u001b[0m \u001b[0;31m##\"I ate {0} apples. so I was sick for {1} days.\".format(number=10, day)\u001b[0m\u001b[0;34m\u001b[0m\u001b[0;34m\u001b[0m\u001b[0;34m\u001b[0m\u001b[0m\n",
            "\u001b[0;31mNameError\u001b[0m: name 'day' is not defined"
          ]
        }
      ]
    },
    {
      "cell_type": "markdown",
      "metadata": {
        "id": "ubrdvC5vRk38",
        "colab_type": "text"
      },
      "source": [
        "\n",
        "\n",
        "---\n",
        "\n"
      ]
    },
    {
      "cell_type": "markdown",
      "metadata": {
        "id": "btLVuaxpY39a",
        "colab_type": "text"
      },
      "source": [
        "### # [5] format 함수 또는 f 문자열 포매팅을 이용해서 '!!python!!' 문자열을 출력해보시오.\n",
        "\n",
        "```\n",
        "\n",
        "\n",
        "\n",
        "```\n"
      ]
    },
    {
      "cell_type": "code",
      "metadata": {
        "id": "6_zZStPwcI_J",
        "colab_type": "code",
        "outputId": "643e8046-4d75-4969-a5ab-bacb2dfdb70a",
        "colab": {
          "base_uri": "https://localhost:8080/",
          "height": 34
        }
      },
      "source": [
        "\"{0:!^10}\".format(\"python\")"
      ],
      "execution_count": 0,
      "outputs": [
        {
          "output_type": "execute_result",
          "data": {
            "text/plain": [
              "'!!python!!'"
            ]
          },
          "metadata": {
            "tags": []
          },
          "execution_count": 14
        }
      ]
    },
    {
      "cell_type": "markdown",
      "metadata": {
        "id": "bsQtSg0lY-mz",
        "colab_type": "text"
      },
      "source": [
        "\n",
        "\n",
        "---\n",
        "\n"
      ]
    },
    {
      "cell_type": "markdown",
      "metadata": {
        "colab_type": "text",
        "id": "RoOLqvs0ZH-m"
      },
      "source": [
        "### # [6] 다음 list a의 인덱싱 결과는?\n",
        "\n",
        "```\n",
        "a = [1, 2, (3, 4), ['a', 'b', ['My', 'Life', 'Good']]]\n",
        "\n",
        "\n",
        "a[3][-1][-1]\n",
        "\n",
        "```\n"
      ]
    },
    {
      "cell_type": "code",
      "metadata": {
        "id": "FPXA-7qRaDL8",
        "colab_type": "code",
        "outputId": "6921a1e9-4222-4048-b5a5-345287096dfa",
        "colab": {
          "base_uri": "https://localhost:8080/",
          "height": 34
        }
      },
      "source": [
        "a = [1, 2, (3, 4), ['a', 'b', ['My', 'Life', 'Good']]]\n",
        " \n",
        " \n",
        "a[3][-1][-1]"
      ],
      "execution_count": 0,
      "outputs": [
        {
          "output_type": "execute_result",
          "data": {
            "text/plain": [
              "'Good'"
            ]
          },
          "metadata": {
            "tags": []
          },
          "execution_count": 4
        }
      ]
    },
    {
      "cell_type": "markdown",
      "metadata": {
        "id": "lNKyqCh4ZQQm",
        "colab_type": "text"
      },
      "source": [
        "\n",
        "\n",
        "---\n",
        "\n"
      ]
    },
    {
      "cell_type": "markdown",
      "metadata": {
        "colab_type": "text",
        "id": "5MYeANveZUSL"
      },
      "source": [
        "### # [7] 다음 list x의 슬라이싱 결과는?\n",
        "\n",
        "\n",
        "```\n",
        "x = [1, 2, 3, 4, 5, 6, 7, 8, 9, 10]\n",
        "\n",
        "x[-6:1:-1]\n",
        "\n",
        "```\n"
      ]
    },
    {
      "cell_type": "code",
      "metadata": {
        "id": "F9fs30IGaGld",
        "colab_type": "code",
        "outputId": "fa8349c4-88da-461f-8181-76aeee667725",
        "colab": {
          "base_uri": "https://localhost:8080/",
          "height": 34
        }
      },
      "source": [
        "x = [1, 2, 3, 4, 5, 6, 7, 8, 9, 10]\n",
        " \n",
        "x[-6:1:-1]"
      ],
      "execution_count": 0,
      "outputs": [
        {
          "output_type": "execute_result",
          "data": {
            "text/plain": [
              "[5, 4, 3]"
            ]
          },
          "metadata": {
            "tags": []
          },
          "execution_count": 5
        }
      ]
    },
    {
      "cell_type": "markdown",
      "metadata": {
        "id": "03WI5SptZhWi",
        "colab_type": "text"
      },
      "source": [
        "\n",
        "\n",
        "---\n",
        "\n"
      ]
    },
    {
      "cell_type": "markdown",
      "metadata": {
        "colab_type": "text",
        "id": "X-wkQ_E2Z2Am"
      },
      "source": [
        "### # [8] 다음 tuple t1의 슬라이싱 결과는?\n",
        "\n",
        "\n",
        "\n",
        "```\n",
        "t1 = (0, 2, \"s\", \"t\", \"u\")\n",
        "\n",
        "t1[3:-1]\n",
        "\n",
        "```\n"
      ]
    },
    {
      "cell_type": "code",
      "metadata": {
        "id": "zjz0vWi1aH1l",
        "colab_type": "code",
        "outputId": "282c88c2-1c80-48d4-ebb9-7ae38e6ecdc6",
        "colab": {
          "base_uri": "https://localhost:8080/",
          "height": 34
        }
      },
      "source": [
        "t1 = (0, 2, \"s\", \"t\", \"u\")\n",
        " \n",
        "t1[3:-1]"
      ],
      "execution_count": 0,
      "outputs": [
        {
          "output_type": "execute_result",
          "data": {
            "text/plain": [
              "('t',)"
            ]
          },
          "metadata": {
            "tags": []
          },
          "execution_count": 6
        }
      ]
    },
    {
      "cell_type": "markdown",
      "metadata": {
        "id": "E5cAIBhjRze1",
        "colab_type": "text"
      },
      "source": [
        "\n",
        "\n",
        "---\n",
        "\n"
      ]
    },
    {
      "cell_type": "markdown",
      "metadata": {
        "colab_type": "text",
        "id": "0lS1bWBAaDj7"
      },
      "source": [
        "### # [9] 다음 set s1의 최종 출력 결과는?\n",
        "\n",
        "```\n",
        "s1 = set([2, 3])\n",
        "s1.update([2, 4, 6])\n",
        "\n",
        "s1.add(4)\n",
        "\n",
        "s1  # 출력 결과?\n",
        "```\n"
      ]
    },
    {
      "cell_type": "code",
      "metadata": {
        "id": "LNqfDJUgaKP0",
        "colab_type": "code",
        "outputId": "4f894cb4-bf38-4569-b7d9-8406b91ae84a",
        "colab": {
          "base_uri": "https://localhost:8080/",
          "height": 34
        }
      },
      "source": [
        "s1 = set([2, 3])\n",
        "s1.update([2, 4, 6])\n",
        " \n",
        "s1.add(4)\n",
        " \n",
        "s1"
      ],
      "execution_count": 0,
      "outputs": [
        {
          "output_type": "execute_result",
          "data": {
            "text/plain": [
              "{2, 3, 4, 6}"
            ]
          },
          "metadata": {
            "tags": []
          },
          "execution_count": 7
        }
      ]
    },
    {
      "cell_type": "markdown",
      "metadata": {
        "colab_type": "text",
        "id": "kqa9iT2Fa-jf"
      },
      "source": [
        "\n",
        "\n",
        "---\n",
        "\n"
      ]
    },
    {
      "cell_type": "markdown",
      "metadata": {
        "colab_type": "text",
        "id": "TqPDhfKHaSeE"
      },
      "source": [
        "### # [10] 다음 bool 값 출력 중 정확한 것은?\n",
        "\n",
        "bool([0, 1, 2, 3]), bool([0]), bool((0)), bool((0,))\n",
        "\n",
        "\n",
        "```\n",
        "'''\n",
        "A. (True, True, True, True)\n",
        "B. (False, False, False, False)\n",
        "C. (True, True, False, True)\n",
        "D. (True, False, False, True)\n",
        "'''\n",
        "\n",
        "```\n"
      ]
    },
    {
      "cell_type": "code",
      "metadata": {
        "id": "q2NKjwxuaMKE",
        "colab_type": "code",
        "outputId": "f813c393-26bc-44cf-f70a-a14ea76dbcf5",
        "colab": {
          "base_uri": "https://localhost:8080/",
          "height": 34
        }
      },
      "source": [
        "bool([0, 1, 2, 3]), bool([0]), bool((0)), bool((0,))"
      ],
      "execution_count": 0,
      "outputs": [
        {
          "output_type": "execute_result",
          "data": {
            "text/plain": [
              "(True, True, False, True)"
            ]
          },
          "metadata": {
            "tags": []
          },
          "execution_count": 8
        }
      ]
    },
    {
      "cell_type": "markdown",
      "metadata": {
        "id": "ZJkvEy9SPOtJ",
        "colab_type": "text"
      },
      "source": [
        "\n",
        "\n",
        "---\n",
        "\n"
      ]
    },
    {
      "cell_type": "markdown",
      "metadata": {
        "id": "NnWDXeUJ8yFF",
        "colab_type": "text"
      },
      "source": [
        "### # [11-2점] 다음 조건문을 1줄 코드로 변경하시오.  \n",
        "\n",
        "```\n",
        "score=80\n",
        "\n",
        "if score >= 60:\n",
        "    message = \"success\"\n",
        "else:\n",
        "    message = \"failure\"\n",
        "\n",
        "print(message)\n",
        "\n",
        "```\n",
        "\n",
        "> 출력 결과 :  success\n",
        "\n"
      ]
    },
    {
      "cell_type": "code",
      "metadata": {
        "colab_type": "code",
        "id": "LrUb50DYktMU",
        "colab": {}
      },
      "source": [
        ""
      ],
      "execution_count": 0,
      "outputs": []
    },
    {
      "cell_type": "code",
      "metadata": {
        "colab_type": "code",
        "id": "xx3Nk7cX7rLi",
        "colab": {}
      },
      "source": [
        "# [11-2점] 1줄 조건문\n",
        "\n",
        "score=80\n",
        "\n",
        "message = __________________________________________________________\n",
        "\n",
        "print(message)\n"
      ],
      "execution_count": 0,
      "outputs": []
    },
    {
      "cell_type": "code",
      "metadata": {
        "id": "WU9xE3boacob",
        "colab_type": "code",
        "colab": {}
      },
      "source": [
        "message=\"success\" if score>=60 else \"failure\":"
      ],
      "execution_count": 0,
      "outputs": []
    },
    {
      "cell_type": "markdown",
      "metadata": {
        "id": "KWmhM8m6Qc2_",
        "colab_type": "text"
      },
      "source": [
        "\n",
        "\n",
        "---\n",
        "\n"
      ]
    },
    {
      "cell_type": "markdown",
      "metadata": {
        "colab_type": "text",
        "id": "lGorfx3Q_Ym8"
      },
      "source": [
        "### # [12-2점] 다음 커피자판기가 실행 결과와 같이 제대로 실행되도록 A, B 에 코드를 완성하시오. \n",
        "> coffee.py\n",
        "\n",
        "```\n",
        "\n",
        "coffee = 5\n",
        "\n",
        "while True:\n",
        "    money = int(input(\"돈을 넣어 주세요: \"))\n",
        "    if money == 300:\n",
        "        print(\"커피를 줍니다.\")\n",
        "        coffee = coffee -1\n",
        "    elif money > 300:\n",
        "        print(\"거스름돈 %d를 주고 커피를 줍니다.\" % A._____________)\n",
        "        coffee = coffee -1\n",
        "    else:\n",
        "        print(\"돈을 다시 돌려주고 커피를 주지 않습니다.\")\n",
        "        print(\"남은 커피의 양은 %d개 입니다.\" % coffee)\n",
        "    if : coffee == 0\n",
        "        print(\"커피가 다 떨어졌습니다. 판매를 중지 합니다.\")\n",
        "        B._______________\n",
        "```\n",
        "> 실행 결과 :  \n",
        "```\n",
        "돈을 넣어 주세요: 300\n",
        "커피를 줍니다.\n",
        "돈을 넣어 주세요: 400\n",
        "거스름돈 100를 주고 커피를 줍니다.\n",
        "돈을 넣어 주세요: 500\n",
        "거스름돈 200를 주고 커피를 줍니다.\n",
        "돈을 넣어 주세요: 400\n",
        "거스름돈 100를 주고 커피를 줍니다.\n",
        "돈을 넣어 주세요: 300\n",
        "커피를 줍니다.\n",
        "커피가 다 떨어졌습니다. 판매를 중지 합니다.\n",
        "\n",
        "```\n",
        "\n"
      ]
    },
    {
      "cell_type": "code",
      "metadata": {
        "id": "RaYUHcXcaf37",
        "colab_type": "code",
        "outputId": "50aa0a12-144d-4452-fa30-409280efe000",
        "colab": {
          "base_uri": "https://localhost:8080/",
          "height": 212
        }
      },
      "source": [
        "coffee = 5\n",
        " \n",
        "while True:\n",
        "    money = int(input(\"돈을 넣어 주세요: \"))\n",
        "    if money == 300:\n",
        "        print(\"커피를 줍니다.\")\n",
        "        coffee = coffee -1\n",
        "    elif money > 300:\n",
        "        print(\"거스름돈 %d를 주고 커피를 줍니다.\" % (money-300))\n",
        "        coffee = coffee -1\n",
        "    else:\n",
        "        print(\"돈을 다시 돌려주고 커피를 주지 않습니다.\")\n",
        "        print(\"남은 커피의 양은 %d개 입니다.\" % coffee)\n",
        "    if  coffee == 0:\n",
        "        print(\"커피가 다 떨어졌습니다. 판매를 중지 합니다.\")\n",
        "        break"
      ],
      "execution_count": 0,
      "outputs": [
        {
          "output_type": "stream",
          "text": [
            "돈을 넣어 주세요: 300\n",
            "커피를 줍니다.\n",
            "돈을 넣어 주세요: 400\n",
            "거스름돈 100를 주고 커피를 줍니다.\n",
            "돈을 넣어 주세요: 500\n",
            "거스름돈 200를 주고 커피를 줍니다.\n",
            "돈을 넣어 주세요: 400\n",
            "거스름돈 100를 주고 커피를 줍니다.\n",
            "돈을 넣어 주세요: 300\n",
            "커피를 줍니다.\n",
            "커피가 다 떨어졌습니다. 판매를 중지 합니다.\n"
          ],
          "name": "stdout"
        }
      ]
    },
    {
      "cell_type": "markdown",
      "metadata": {
        "id": "0qRrZYG7QZhd",
        "colab_type": "text"
      },
      "source": [
        "\n",
        "\n",
        "---\n",
        "\n"
      ]
    },
    {
      "cell_type": "markdown",
      "metadata": {
        "colab_type": "text",
        "id": "OJike-w1CsoQ"
      },
      "source": [
        "### # [13-2점] 다음 for-loop의 출력 결과는?\n",
        "\n",
        "```\n",
        "\n",
        "games = [\"축구\", \"야구\", \"농구\"]\n",
        "\n",
        "\n",
        "# \n",
        "for cnt in range(len(games)):\n",
        "    print(cnt, games[cnt], end=',')\n",
        "    \n",
        "    \n",
        "    \n",
        "```\n",
        "\n",
        "> 출력 결과 ? \n",
        "\n"
      ]
    },
    {
      "cell_type": "code",
      "metadata": {
        "id": "KIluMp9FazmS",
        "colab_type": "code",
        "outputId": "40b43875-e07b-4c5f-a945-7bbb212c58e8",
        "colab": {
          "base_uri": "https://localhost:8080/",
          "height": 34
        }
      },
      "source": [
        "games = [\"축구\", \"야구\", \"농구\"]\n",
        "for cnt in range(len(games)):\n",
        "    print(cnt, games[cnt], end=',')"
      ],
      "execution_count": 0,
      "outputs": [
        {
          "output_type": "stream",
          "text": [
            "0 축구,1 야구,2 농구,"
          ],
          "name": "stdout"
        }
      ]
    },
    {
      "cell_type": "markdown",
      "metadata": {
        "id": "llbH03czQf3N",
        "colab_type": "text"
      },
      "source": [
        "\n",
        "\n",
        "---\n",
        "\n"
      ]
    },
    {
      "cell_type": "markdown",
      "metadata": {
        "colab_type": "text",
        "id": "cKCXDHUgDQIx"
      },
      "source": [
        "### # [14-2점] 다음 dictionary와 관련된 함수로 평균 점수를 계산하는 코드를 완성하시오.\n",
        "\n",
        "```\n",
        "\n",
        "\n",
        "\n",
        "scores={\"국어\":80, \"영어\":75, \"수학\":55}\n",
        "\n",
        "\n",
        "print(\"평균점수는{0}점입니다\".format(sum([14]_____________________)/len(scores)))\n",
        "\n",
        "\n",
        "\n",
        "    \n",
        "```\n",
        " \n",
        "\n"
      ]
    },
    {
      "cell_type": "code",
      "metadata": {
        "id": "fflSTPpbiWn7",
        "colab_type": "code",
        "outputId": "39b1ae60-9424-416d-9eb9-250c3bcf89fb",
        "colab": {
          "base_uri": "https://localhost:8080/",
          "height": 34
        }
      },
      "source": [
        "scores={\"국어\":80, \"영어\":75, \"수학\":55}\n",
        "print(\"평균점수는{0}점입니다\".format(sum(scores.values())/len(scores)))"
      ],
      "execution_count": 0,
      "outputs": [
        {
          "output_type": "stream",
          "text": [
            "평균점수는70.0점입니다\n"
          ],
          "name": "stdout"
        }
      ]
    },
    {
      "cell_type": "markdown",
      "metadata": {
        "id": "cNQi2Iz1QhY1",
        "colab_type": "text"
      },
      "source": [
        "\n",
        "\n",
        "---\n",
        "\n"
      ]
    },
    {
      "cell_type": "markdown",
      "metadata": {
        "id": "9AmH3Us784z2",
        "colab_type": "text"
      },
      "source": [
        "\n",
        "\n",
        "---\n",
        "\n"
      ]
    },
    {
      "cell_type": "markdown",
      "metadata": {
        "colab_type": "text",
        "id": "avsnuGXeGoXx"
      },
      "source": [
        "### # [15-2점] a 리스트에서 중복 숫자를 제거해서 출력하는 다음 코드를 완성하시오.\n",
        "\n",
        "\n",
        "\n",
        "```\n",
        "\n",
        "a = [1, 1, 1, 2, 2, 3, 3, 3, 4, 4, 5]\n",
        "\n",
        "\n",
        "a = A.________________\n",
        "\n",
        "\n",
        "a = B.________________\n",
        "\n",
        "\n",
        "print(a)\n",
        "\n",
        "\n",
        "```\n",
        "\n",
        "  \n",
        "> 출력 결과 : [1, 2, 3, 4, 5]\n",
        "\n"
      ]
    },
    {
      "cell_type": "code",
      "metadata": {
        "id": "T6sqQC65iclK",
        "colab_type": "code",
        "outputId": "6f0e87ab-5b25-4860-e6b9-287e2e780208",
        "colab": {
          "base_uri": "https://localhost:8080/",
          "height": 34
        }
      },
      "source": [
        "a = [1, 1, 1, 2, 2, 3, 3, 3, 4, 4, 5]\n",
        "a=set(a)\n",
        "a=list(a)\n",
        "print(a)"
      ],
      "execution_count": 0,
      "outputs": [
        {
          "output_type": "stream",
          "text": [
            "[1, 2, 3, 4, 5]\n"
          ],
          "name": "stdout"
        }
      ]
    },
    {
      "cell_type": "markdown",
      "metadata": {
        "id": "67ZFEoISQkCl",
        "colab_type": "text"
      },
      "source": [
        "\n",
        "\n",
        "\n",
        "---\n",
        "\n",
        "\n"
      ]
    },
    {
      "cell_type": "markdown",
      "metadata": {
        "colab_type": "text",
        "id": "fAy1a2TAJEjA"
      },
      "source": [
        "### # [16-최대 3점] for문 사용해 1부터 1000까지의 자연수 중 5의 배수의 합을 구하는 전체 코드를 작성하시오.\n",
        "\n",
        "> 결과(5의 배수의 합)까지 출력하는 코드는 4줄 이하로 작성하시오.\n",
        ">> 최소한의 줄로 만든 코드에 최대 점수 3점.\n",
        "- 1줄: 3점\n",
        "- 2줄: 2점\n",
        "- 3줄 이상: 1점  \n",
        "\n",
        ">> list 내포를 이용하시오.\n",
        "\n",
        "```\n",
        "_________________________________________________________________________________________\n",
        "\n",
        "_________________________________________________________________________________________\n",
        "\n",
        "_________________________________________________________________________________________\n",
        "\n",
        "_________________________________________________________________________________________\n",
        "\n",
        "\n",
        "```\n",
        "  \n"
      ]
    },
    {
      "cell_type": "markdown",
      "metadata": {
        "id": "4O3KF0EySrzd",
        "colab_type": "text"
      },
      "source": [
        "\n",
        "\n",
        "---\n",
        "\n",
        "\n"
      ]
    },
    {
      "cell_type": "code",
      "metadata": {
        "id": "WC6FCPcDikBK",
        "colab_type": "code",
        "outputId": "75570725-f88e-43e4-d202-7916285426a0",
        "colab": {
          "base_uri": "https://localhost:8080/",
          "height": 34
        }
      },
      "source": [
        "print(sum([i for i in range(1,1000) if i%5==0]))"
      ],
      "execution_count": 0,
      "outputs": [
        {
          "output_type": "stream",
          "text": [
            "99500\n"
          ],
          "name": "stdout"
        }
      ]
    },
    {
      "cell_type": "markdown",
      "metadata": {
        "id": "7_w53TXgPvFN",
        "colab_type": "text"
      },
      "source": [
        "\n",
        "\n",
        "---\n",
        "\n"
      ]
    },
    {
      "cell_type": "markdown",
      "metadata": {
        "colab_type": "text",
        "id": "QizK7s2CqlwC"
      },
      "source": [
        "### # [17-최대 3점] 다음 자료에 대한 평균 성적을 구하시오.\n",
        "```\n",
        "subjects = ['python', 'english', 'math', 'science']\n",
        "scores = [88, 77, 66, 95]\n",
        "```\n",
        "\n",
        "> 결과는 다음과 같이 출력되는 최단 코드를 완성하시오.\n",
        "```\n",
        "python 88\n",
        "english 77\n",
        "math 66\n",
        "science 95\n",
        "평균 점수 = 81.5\n",
        "```\n",
        "\n",
        ">> zip() 함수를 이용하시오.\n",
        "\n",
        "```\n",
        "# 평균 성적을 구하시오.\n",
        "subjects = ['python', 'english', 'math', 'science']\n",
        "scores = [88, 77, 66, 95]\n",
        "\n",
        "total = 0\n",
        "\n",
        "_________________________________________________________________________________________\n",
        "\n",
        "_________________________________________________________________________________________\n",
        "\n",
        "_________________________________________________________________________________________\n",
        "\n",
        "_________________________________________________________________________________________\n",
        "\n",
        "_________________________________________________________________________________________\n",
        "\n",
        "\n",
        "```\n",
        "  \n"
      ]
    },
    {
      "cell_type": "markdown",
      "metadata": {
        "id": "Li_2y_pAs1kD",
        "colab_type": "text"
      },
      "source": [
        "\n",
        "\n",
        "---\n",
        "\n"
      ]
    },
    {
      "cell_type": "code",
      "metadata": {
        "id": "bjR8o-6SiuUz",
        "colab_type": "code",
        "outputId": "64436bcc-63f0-4a54-9af6-61815b3e7a92",
        "colab": {
          "base_uri": "https://localhost:8080/",
          "height": 105
        }
      },
      "source": [
        "subjects = ['python', 'english', 'math', 'science']\n",
        "\n",
        "scores = [88, 77, 66, 95]\n",
        "\n",
        "total = 0\n",
        "\n",
        "for subject, score in zip(subjects, scores):\n",
        "  print(subject,score)\n",
        "print(\"평균점수는{0}점입니다\".format(sum(scores)/len(scores)))"
      ],
      "execution_count": 0,
      "outputs": [
        {
          "output_type": "stream",
          "text": [
            "python 88\n",
            "english 77\n",
            "math 66\n",
            "science 95\n",
            "평균점수는81.5점입니다\n"
          ],
          "name": "stdout"
        }
      ]
    },
    {
      "cell_type": "code",
      "metadata": {
        "id": "IK51eQXHiuPK",
        "colab_type": "code",
        "colab": {}
      },
      "source": [
        ""
      ],
      "execution_count": 0,
      "outputs": []
    },
    {
      "cell_type": "markdown",
      "metadata": {
        "colab_type": "text",
        "id": "0g1etKblygaj"
      },
      "source": [
        "### # [18-3점] 입력으로 들어오는 모든 수의 평균 값을 계산해 주는 함수 만들기\n",
        "\n",
        "\n",
        "- 단 입력으로 들어오는 수의 개수는 정해져 있지 않다. (*args 매개변수 이용)\n",
        "- 평균 값을 구할 때 len 함수를 사용해 보자.\n",
        "    - 함수명: addMany()\n",
        "    - 함수 사용: \n",
        "        - addMany(1,2)\n",
        "        - addMany(1,2,3,4,5)\n",
        "        \n",
        "\n",
        "```\n",
        "\n",
        "_________________________________________________________________________________________\n",
        "\n",
        "_________________________________________________________________________________________\n",
        "\n",
        "_________________________________________________________________________________________\n",
        "\n",
        "_________________________________________________________________________________________\n",
        "\n",
        "_________________________________________________________________________________________\n",
        "\n",
        "_________________________________________________________________________________________\n",
        "\n",
        "\n",
        "\n",
        "```\n"
      ]
    },
    {
      "cell_type": "code",
      "metadata": {
        "id": "XeZXwHVri3th",
        "colab_type": "code",
        "outputId": "5b289bde-feb3-4f90-f763-5e903e503e27",
        "colab": {
          "base_uri": "https://localhost:8080/",
          "height": 52
        }
      },
      "source": [
        "def addMany(*args):\n",
        "  sum=0\n",
        "  for i in args:\n",
        "    sum+=i\n",
        "  return sum/len(args)\n",
        "print(addMany(1,2))\n",
        "print(addMany(1,2,3,4,5))"
      ],
      "execution_count": 0,
      "outputs": [
        {
          "output_type": "stream",
          "text": [
            "1.5\n",
            "3.0\n"
          ],
          "name": "stdout"
        }
      ]
    },
    {
      "cell_type": "markdown",
      "metadata": {
        "id": "kPRG1m9d9XJ2",
        "colab_type": "text"
      },
      "source": [
        "\n",
        "\n",
        "---\n",
        "\n"
      ]
    },
    {
      "cell_type": "markdown",
      "metadata": {
        "colab_type": "text",
        "id": "dW0_1zz4tRkq"
      },
      "source": [
        "### # [19-3점] MaxLimitCalculator 클래스를 만들기\n",
        "#### 메소드 재정의(overriding)\n",
        "> 객체변수 value가 100 이상의 값은 가질 수 없도록 제한. \n",
        ">> 즉 다음과 같이 동작해야 한다.\n",
        "```\n",
        "cal = MaxLimitCalculator()\n",
        "cal.add(50) # 50 더하기\n",
        "cal.add(60) # 60 더하기\n",
        "print(cal.value) # 100 출력\n",
        "```\n",
        ">> 단 반드시 다음과 같은 Calculator 클래스를 상속해서 만들어야 한다.\n",
        "\n",
        "```\n",
        "\n",
        "class Calculator:\n",
        "    def __init__(self):\n",
        "        self.value = 0\n",
        "    def add(self, val):\n",
        "        self.value += val\n",
        "        \n",
        "\n",
        "_________________________________________________________________________________________\n",
        "\n",
        "_________________________________________________________________________________________\n",
        "\n",
        "_________________________________________________________________________________________\n",
        "\n",
        "_________________________________________________________________________________________\n",
        "\n",
        "_________________________________________________________________________________________\n",
        "\n",
        "_________________________________________________________________________________________\n",
        "\n",
        "\n",
        "```\n"
      ]
    },
    {
      "cell_type": "code",
      "metadata": {
        "id": "bLw3FoekjHjZ",
        "colab_type": "code",
        "outputId": "46608d7f-e56f-46a1-f8be-5932920110cc",
        "colab": {
          "base_uri": "https://localhost:8080/",
          "height": 34
        }
      },
      "source": [
        "class Calculator:\n",
        "    def __init__(self):\n",
        "        self.value = 0\n",
        "    def add(self, val):\n",
        "        self.value += val\n",
        "  \n",
        "class MaxLimitCalculator(Calculator):\n",
        "    def add(self,val):\n",
        "      self.value+=val\n",
        "      if (self.value>100):\n",
        "         self.value=100\n",
        "cal = MaxLimitCalculator()\n",
        "cal.add(50) # 50 더하기\n",
        "cal.add(60) # 60 더하기\n",
        "print(cal.value) # 100 출력"
      ],
      "execution_count": 0,
      "outputs": [
        {
          "output_type": "stream",
          "text": [
            "100\n"
          ],
          "name": "stdout"
        }
      ]
    },
    {
      "cell_type": "markdown",
      "metadata": {
        "id": "K4rPOTsQ3JlY",
        "colab_type": "text"
      },
      "source": [
        "\n",
        "\n",
        "---\n",
        "\n"
      ]
    },
    {
      "cell_type": "markdown",
      "metadata": {
        "id": "aefyz-CMMExW",
        "colab_type": "text"
      },
      "source": [
        "## 정답을 설명하는 파이썬 노트를 완성해서 각자의 github에 올리시오.\n",
        "- 제출기한: 11월 1일(금) 오전 10시."
      ]
    },
    {
      "cell_type": "markdown",
      "metadata": {
        "id": "IVFkw0axMf5l",
        "colab_type": "text"
      },
      "source": [
        "### 업로드 파일명: smnn_exam_mid.ipynb  (smnn은 id)"
      ]
    },
    {
      "cell_type": "code",
      "metadata": {
        "id": "oFczQ2N2tFFP",
        "colab_type": "code",
        "colab": {}
      },
      "source": [
        ""
      ],
      "execution_count": 0,
      "outputs": []
    }
  ]
}