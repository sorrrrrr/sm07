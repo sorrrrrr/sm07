{
  "nbformat": 4,
  "nbformat_minor": 0,
  "metadata": {
    "colab": {
      "name": "ch2_06_tuple.ipynb",
      "provenance": [],
      "include_colab_link": true
    },
    "kernelspec": {
      "name": "python3",
      "display_name": "Python 3"
    }
  },
  "cells": [
    {
      "cell_type": "markdown",
      "metadata": {
        "id": "view-in-github",
        "colab_type": "text"
      },
      "source": [
        "<a href=\"https://colab.research.google.com/github/sorrrrrr/sm07/blob/master/ch2/ch2_06_tuple.ipynb\" target=\"_parent\"><img src=\"https://colab.research.google.com/assets/colab-badge.svg\" alt=\"Open In Colab\"/></a>"
      ]
    },
    {
      "cell_type": "markdown",
      "metadata": {
        "id": "PbT73-PYsaba",
        "colab_type": "text"
      },
      "source": [
        "ch2_06_tuple.py"
      ]
    },
    {
      "cell_type": "markdown",
      "metadata": {
        "id": "zJU7TuBTsfX-",
        "colab_type": "text"
      },
      "source": [
        "**튜플 : tuple 이란?**"
      ]
    },
    {
      "cell_type": "code",
      "metadata": {
        "id": "YsZA2zfdsl0m",
        "colab_type": "code",
        "colab": {
          "base_uri": "https://localhost:8080/",
          "height": 190
        },
        "outputId": "d3aa3cf1-e819-4f72-a5c1-2c5e3eef8413"
      },
      "source": [
        "even = (2, 4, 6, 8)\n",
        "even[1] = 3"
      ],
      "execution_count": 1,
      "outputs": [
        {
          "output_type": "error",
          "ename": "TypeError",
          "evalue": "ignored",
          "traceback": [
            "\u001b[0;31m---------------------------------------------------------------------------\u001b[0m",
            "\u001b[0;31mTypeError\u001b[0m                                 Traceback (most recent call last)",
            "\u001b[0;32m<ipython-input-1-9e598adab9b8>\u001b[0m in \u001b[0;36m<module>\u001b[0;34m()\u001b[0m\n\u001b[1;32m      1\u001b[0m \u001b[0meven\u001b[0m \u001b[0;34m=\u001b[0m \u001b[0;34m(\u001b[0m\u001b[0;36m2\u001b[0m\u001b[0;34m,\u001b[0m \u001b[0;36m4\u001b[0m\u001b[0;34m,\u001b[0m \u001b[0;36m6\u001b[0m\u001b[0;34m,\u001b[0m \u001b[0;36m8\u001b[0m\u001b[0;34m)\u001b[0m\u001b[0;34m\u001b[0m\u001b[0;34m\u001b[0m\u001b[0m\n\u001b[0;32m----> 2\u001b[0;31m \u001b[0meven\u001b[0m\u001b[0;34m[\u001b[0m\u001b[0;36m1\u001b[0m\u001b[0;34m]\u001b[0m \u001b[0;34m=\u001b[0m \u001b[0;36m3\u001b[0m\u001b[0;34m\u001b[0m\u001b[0;34m\u001b[0m\u001b[0m\n\u001b[0m",
            "\u001b[0;31mTypeError\u001b[0m: 'tuple' object does not support item assignment"
          ]
        }
      ]
    },
    {
      "cell_type": "markdown",
      "metadata": {
        "id": "ESybdl5Ns3vh",
        "colab_type": "text"
      },
      "source": [
        "여러가지 튜플"
      ]
    },
    {
      "cell_type": "code",
      "metadata": {
        "id": "ugzHA8Mxs6wR",
        "colab_type": "code",
        "colab": {
          "base_uri": "https://localhost:8080/",
          "height": 107
        },
        "outputId": "2df5c30c-eeb3-4fd3-ae0f-ca4e286f6071"
      },
      "source": [
        "t1 = ()  \n",
        "type(t1)\n",
        "t2 = (1,)\n",
        "t3 = (1, 2, 3)\n",
        "t4 = 1, 2, 3\n",
        "t5 = (\"a\", \"b\", (\"ab\", \"cd\"))\n",
        "\n",
        "print(t1)\n",
        "print(t2)\n",
        "print(t3)\n",
        "print(t4)\n",
        "print(t5)"
      ],
      "execution_count": 6,
      "outputs": [
        {
          "output_type": "stream",
          "text": [
            "()\n",
            "(1,)\n",
            "(1, 2, 3)\n",
            "(1, 2, 3)\n",
            "('a', 'b', ('ab', 'cd'))\n"
          ],
          "name": "stdout"
        }
      ]
    },
    {
      "cell_type": "markdown",
      "metadata": {
        "id": "N5FAT-_NtL0J",
        "colab_type": "text"
      },
      "source": [
        "튜플 요솟값을 삭제하려 할 때"
      ]
    },
    {
      "cell_type": "code",
      "metadata": {
        "id": "DSKXmPUBtO1x",
        "colab_type": "code",
        "colab": {
          "base_uri": "https://localhost:8080/",
          "height": 190
        },
        "outputId": "6324cdd1-b831-4777-ad03-194f5ea3480c"
      },
      "source": [
        "t1 = (1, 2, \"a\", \"b\")\n",
        "del t1[0] #error"
      ],
      "execution_count": 7,
      "outputs": [
        {
          "output_type": "error",
          "ename": "TypeError",
          "evalue": "ignored",
          "traceback": [
            "\u001b[0;31m---------------------------------------------------------------------------\u001b[0m",
            "\u001b[0;31mTypeError\u001b[0m                                 Traceback (most recent call last)",
            "\u001b[0;32m<ipython-input-7-050e607c114a>\u001b[0m in \u001b[0;36m<module>\u001b[0;34m()\u001b[0m\n\u001b[1;32m      1\u001b[0m \u001b[0mt1\u001b[0m \u001b[0;34m=\u001b[0m \u001b[0;34m(\u001b[0m\u001b[0;36m1\u001b[0m\u001b[0;34m,\u001b[0m \u001b[0;36m2\u001b[0m\u001b[0;34m,\u001b[0m \u001b[0;34m\"a\"\u001b[0m\u001b[0;34m,\u001b[0m \u001b[0;34m\"b\"\u001b[0m\u001b[0;34m)\u001b[0m\u001b[0;34m\u001b[0m\u001b[0;34m\u001b[0m\u001b[0m\n\u001b[0;32m----> 2\u001b[0;31m \u001b[0;32mdel\u001b[0m \u001b[0mt1\u001b[0m\u001b[0;34m[\u001b[0m\u001b[0;36m0\u001b[0m\u001b[0;34m]\u001b[0m\u001b[0;34m\u001b[0m\u001b[0;34m\u001b[0m\u001b[0m\n\u001b[0m",
            "\u001b[0;31mTypeError\u001b[0m: 'tuple' object doesn't support item deletion"
          ]
        }
      ]
    },
    {
      "cell_type": "markdown",
      "metadata": {
        "id": "-RionJK8tRzJ",
        "colab_type": "text"
      },
      "source": [
        "튜플 요솟값을 변경하려 할 때"
      ]
    },
    {
      "cell_type": "code",
      "metadata": {
        "id": "eYDNvXxMtUpR",
        "colab_type": "code",
        "colab": {
          "base_uri": "https://localhost:8080/",
          "height": 172
        },
        "outputId": "43c3ff1b-cbbd-4e72-f298-e258b4db554e"
      },
      "source": [
        "t1[0] = \"c\" #TypeError"
      ],
      "execution_count": 8,
      "outputs": [
        {
          "output_type": "error",
          "ename": "TypeError",
          "evalue": "ignored",
          "traceback": [
            "\u001b[0;31m---------------------------------------------------------------------------\u001b[0m",
            "\u001b[0;31mTypeError\u001b[0m                                 Traceback (most recent call last)",
            "\u001b[0;32m<ipython-input-8-fe465cbc8809>\u001b[0m in \u001b[0;36m<module>\u001b[0;34m()\u001b[0m\n\u001b[0;32m----> 1\u001b[0;31m \u001b[0mt1\u001b[0m\u001b[0;34m[\u001b[0m\u001b[0;36m0\u001b[0m\u001b[0;34m]\u001b[0m \u001b[0;34m=\u001b[0m \u001b[0;34m\"c\"\u001b[0m\u001b[0;34m\u001b[0m\u001b[0;34m\u001b[0m\u001b[0m\n\u001b[0m",
            "\u001b[0;31mTypeError\u001b[0m: 'tuple' object does not support item assignment"
          ]
        }
      ]
    },
    {
      "cell_type": "markdown",
      "metadata": {
        "id": "izUh0Ajdta66",
        "colab_type": "text"
      },
      "source": [
        "**튜플 : 사용방법**"
      ]
    },
    {
      "cell_type": "markdown",
      "metadata": {
        "id": "dghM0Mw9tf-p",
        "colab_type": "text"
      },
      "source": [
        "인덱싱 하기"
      ]
    },
    {
      "cell_type": "code",
      "metadata": {
        "id": "6gHuIu9lteuJ",
        "colab_type": "code",
        "colab": {
          "base_uri": "https://localhost:8080/",
          "height": 53
        },
        "outputId": "f56e48c9-d669-44d0-f31c-fda35cad1086"
      },
      "source": [
        "t1 = (1, 2, \"a\", \"b\")\n",
        "print(t1[0])\n",
        "t1[3]"
      ],
      "execution_count": 10,
      "outputs": [
        {
          "output_type": "stream",
          "text": [
            "1\n"
          ],
          "name": "stdout"
        },
        {
          "output_type": "execute_result",
          "data": {
            "text/plain": [
              "'b'"
            ]
          },
          "metadata": {
            "tags": []
          },
          "execution_count": 10
        }
      ]
    },
    {
      "cell_type": "markdown",
      "metadata": {
        "id": "TI74s1zhtmWx",
        "colab_type": "text"
      },
      "source": [
        "슬라이싱 하기"
      ]
    },
    {
      "cell_type": "code",
      "metadata": {
        "id": "WFJtTWzttn7B",
        "colab_type": "code",
        "colab": {
          "base_uri": "https://localhost:8080/",
          "height": 71
        },
        "outputId": "eefc2452-e2f5-4a3a-e8b7-921b7a322a69"
      },
      "source": [
        "t1 = (1, 2, \"a\", \"b\")\n",
        "print(t1[1:])\n",
        "print(t1[2:-1])\n",
        "t1[2:]"
      ],
      "execution_count": 11,
      "outputs": [
        {
          "output_type": "stream",
          "text": [
            "(2, 'a', 'b')\n",
            "('a',)\n"
          ],
          "name": "stdout"
        },
        {
          "output_type": "execute_result",
          "data": {
            "text/plain": [
              "('a', 'b')"
            ]
          },
          "metadata": {
            "tags": []
          },
          "execution_count": 11
        }
      ]
    },
    {
      "cell_type": "markdown",
      "metadata": {
        "id": "q3Wjj1pftuxZ",
        "colab_type": "text"
      },
      "source": [
        "튜플 더하기"
      ]
    },
    {
      "cell_type": "code",
      "metadata": {
        "id": "a64VpXJytwhh",
        "colab_type": "code",
        "colab": {
          "base_uri": "https://localhost:8080/",
          "height": 35
        },
        "outputId": "45d2a46a-7269-4b79-8b9f-a569cc56b6e8"
      },
      "source": [
        "t1 = (1, 2, \"a\", \"b\")\n",
        "t2 = (3, 4)\n",
        "t1 + t2"
      ],
      "execution_count": 12,
      "outputs": [
        {
          "output_type": "execute_result",
          "data": {
            "text/plain": [
              "(1, 2, 'a', 'b', 3, 4)"
            ]
          },
          "metadata": {
            "tags": []
          },
          "execution_count": 12
        }
      ]
    },
    {
      "cell_type": "markdown",
      "metadata": {
        "id": "9s12wZh-tzco",
        "colab_type": "text"
      },
      "source": [
        "튜플 곱하기"
      ]
    },
    {
      "cell_type": "code",
      "metadata": {
        "id": "kfpQc0Hjt05h",
        "colab_type": "code",
        "colab": {
          "base_uri": "https://localhost:8080/",
          "height": 89
        },
        "outputId": "feb4cf3d-eeda-4de6-bfdf-2b51ce624c94"
      },
      "source": [
        "t2 = (3, 4)\n",
        "print(id(t2))\n",
        "print(t2 * 3)\n",
        "print(id(t2))\n",
        "t2 = t2 * 3\n",
        "print(id(t2))"
      ],
      "execution_count": 14,
      "outputs": [
        {
          "output_type": "stream",
          "text": [
            "140060346820808\n",
            "(3, 4, 3, 4, 3, 4)\n",
            "140060346820808\n",
            "140060347492680\n"
          ],
          "name": "stdout"
        }
      ]
    },
    {
      "cell_type": "markdown",
      "metadata": {
        "id": "WEalOMN6t_Ug",
        "colab_type": "text"
      },
      "source": [
        "튜플 길이 구하기"
      ]
    },
    {
      "cell_type": "code",
      "metadata": {
        "id": "infba9XQuA2A",
        "colab_type": "code",
        "colab": {
          "base_uri": "https://localhost:8080/",
          "height": 35
        },
        "outputId": "fcc836dc-7447-444b-8065-f4865fdbd89c"
      },
      "source": [
        "t1 = (1, 2, \"a\", \"b\")\n",
        "len(t1)"
      ],
      "execution_count": 15,
      "outputs": [
        {
          "output_type": "execute_result",
          "data": {
            "text/plain": [
              "4"
            ]
          },
          "metadata": {
            "tags": []
          },
          "execution_count": 15
        }
      ]
    }
  ]
}