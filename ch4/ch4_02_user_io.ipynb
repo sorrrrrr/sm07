{
  "nbformat": 4,
  "nbformat_minor": 0,
  "metadata": {
    "colab": {
      "name": "ch4_02_user_io.ipynb",
      "provenance": [],
      "include_colab_link": true
    },
    "kernelspec": {
      "name": "python3",
      "display_name": "Python 3"
    }
  },
  "cells": [
    {
      "cell_type": "markdown",
      "metadata": {
        "id": "view-in-github",
        "colab_type": "text"
      },
      "source": [
        "<a href=\"https://colab.research.google.com/github/sorrrrrr/sm07/blob/master/ch4/ch4_02_user_io.ipynb\" target=\"_parent\"><img src=\"https://colab.research.google.com/assets/colab-badge.svg\" alt=\"Open In Colab\"/></a>"
      ]
    },
    {
      "cell_type": "markdown",
      "metadata": {
        "id": "P4ZAhpa_bTjX",
        "colab_type": "text"
      },
      "source": [
        "#사용자 입력과 출력"
      ]
    },
    {
      "cell_type": "markdown",
      "metadata": {
        "id": "EKLFFzm7bWIY",
        "colab_type": "text"
      },
      "source": [
        "##사용자 입력"
      ]
    },
    {
      "cell_type": "markdown",
      "metadata": {
        "id": "PFnkcmd3bXmu",
        "colab_type": "text"
      },
      "source": [
        "#input의 사용"
      ]
    },
    {
      "cell_type": "code",
      "metadata": {
        "id": "BAKLb-qgbNbx",
        "colab_type": "code",
        "colab": {
          "base_uri": "https://localhost:8080/",
          "height": 53
        },
        "outputId": "279beaa8-2fb4-4c38-8352-9a5dd539aeb6"
      },
      "source": [
        "a = input()\n",
        "# Life is too short, you need python\n",
        "a"
      ],
      "execution_count": 1,
      "outputs": [
        {
          "output_type": "stream",
          "text": [
            "ㅇㄴㅁㅇㄴㅁ\n"
          ],
          "name": "stdout"
        },
        {
          "output_type": "execute_result",
          "data": {
            "text/plain": [
              "'ㅇㄴㅁㅇㄴㅁ'"
            ]
          },
          "metadata": {
            "tags": []
          },
          "execution_count": 1
        }
      ]
    },
    {
      "cell_type": "markdown",
      "metadata": {
        "id": "6MALlZRQbe-2",
        "colab_type": "text"
      },
      "source": [
        "##입력 안내 문구를 이용한 input의 사용"
      ]
    },
    {
      "cell_type": "code",
      "metadata": {
        "id": "Rg2iaT4lbiSP",
        "colab_type": "code",
        "colab": {
          "base_uri": "https://localhost:8080/",
          "height": 71
        },
        "outputId": "f69af13c-88db-4bfe-b41f-bc3e9a63a7be"
      },
      "source": [
        "number = input(\"숫자를 입력하세요: \")\n",
        "\n",
        "print(number)\n",
        "\n",
        "\n",
        "print(\"사용자 출력: print()\")\n",
        "# 입력한 자료형을 출력"
      ],
      "execution_count": 2,
      "outputs": [
        {
          "output_type": "stream",
          "text": [
            "숫자를 입력하세요: 321321\n",
            "321321\n",
            "사용자 출력: print()\n"
          ],
          "name": "stdout"
        }
      ]
    },
    {
      "cell_type": "markdown",
      "metadata": {
        "id": "TE1HC85HbsUe",
        "colab_type": "text"
      },
      "source": [
        "##print의 사용"
      ]
    },
    {
      "cell_type": "code",
      "metadata": {
        "id": "O5Y1IEXFbtdi",
        "colab_type": "code",
        "colab": {
          "base_uri": "https://localhost:8080/",
          "height": 125
        },
        "outputId": "e91ec708-3152-4061-e5dd-65dd012f07c9"
      },
      "source": [
        "a = 123\n",
        "print(a)\n",
        "\n",
        "a = \"Python\"\n",
        "print(a)\n",
        "\n",
        "a = [1, 2, 3]\n",
        "print(a)\n",
        "\n",
        "#######################################\n",
        "print(\"큰따옴표(\\\")로 둘러싸인 문자열은 + 연산과 동일\")\n",
        "#\n",
        "print(\"life\" \"is\" \"too short\")\n",
        "print(\"life\"+\"is\"+\"too short\")\n"
      ],
      "execution_count": 3,
      "outputs": [
        {
          "output_type": "stream",
          "text": [
            "123\n",
            "Python\n",
            "[1, 2, 3]\n",
            "큰따옴표(\")로 둘러싸인 문자열은 + 연산과 동일\n",
            "lifeistoo short\n",
            "lifeistoo short\n"
          ],
          "name": "stdout"
        }
      ]
    },
    {
      "cell_type": "markdown",
      "metadata": {
        "id": "rR34c9Kbbzgl",
        "colab_type": "text"
      },
      "source": [
        "##문자열 띄어쓰기는 콤마로 한다"
      ]
    },
    {
      "cell_type": "code",
      "metadata": {
        "id": "Vpx9Abd3b1z6",
        "colab_type": "code",
        "colab": {
          "base_uri": "https://localhost:8080/",
          "height": 35
        },
        "outputId": "7c65defd-32ee-4409-9b0e-17967f3b8901"
      },
      "source": [
        "print(\"life\", \"is\", \"too short\")"
      ],
      "execution_count": 4,
      "outputs": [
        {
          "output_type": "stream",
          "text": [
            "life is too short\n"
          ],
          "name": "stdout"
        }
      ]
    },
    {
      "cell_type": "markdown",
      "metadata": {
        "id": "lRT-l6Pxb4jF",
        "colab_type": "text"
      },
      "source": [
        "##한 줄에 결과값 출력하기"
      ]
    },
    {
      "cell_type": "code",
      "metadata": {
        "id": "pribypZVb6lZ",
        "colab_type": "code",
        "colab": {
          "base_uri": "https://localhost:8080/",
          "height": 35
        },
        "outputId": "ae415b2d-8dd8-4387-d155-fc4701392229"
      },
      "source": [
        "for i in range(10):\n",
        "    print(i, end=' ')"
      ],
      "execution_count": 5,
      "outputs": [
        {
          "output_type": "stream",
          "text": [
            "0 1 2 3 4 5 6 7 8 9 "
          ],
          "name": "stdout"
        }
      ]
    }
  ]
}