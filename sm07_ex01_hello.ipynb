{
  "nbformat": 4,
  "nbformat_minor": 0,
  "metadata": {
    "colab": {
      "name": "sm07_ex01_hello.ipynb",
      "version": "0.3.2",
      "provenance": [],
      "collapsed_sections": [],
      "toc_visible": true,
      "include_colab_link": true
    },
    "kernelspec": {
      "name": "python3",
      "display_name": "Python 3"
    }
  },
  "cells": [
    {
      "cell_type": "markdown",
      "metadata": {
        "id": "view-in-github",
        "colab_type": "text"
      },
      "source": [
        "<a href=\"https://colab.research.google.com/github/sorrrrrr/sm07/blob/master/sm07_ex01_hello.ipynb\" target=\"_parent\"><img src=\"https://colab.research.google.com/assets/colab-badge.svg\" alt=\"Open In Colab\"/></a>"
      ]
    },
    {
      "cell_type": "markdown",
      "metadata": {
        "id": "3mdEGGY3dqbm",
        "colab_type": "text"
      },
      "source": [
        "## sm07 report 1"
      ]
    },
    {
      "cell_type": "code",
      "metadata": {
        "id": "uXH6oA4ddgei",
        "colab_type": "code",
        "colab": {
          "base_uri": "https://localhost:8080/",
          "height": 35
        },
        "outputId": "602b501a-94d3-484b-f9ed-9140735b3dfe"
      },
      "source": [
        "a=1\n",
        "b=2\n",
        "c=a+b\n",
        "print(c)"
      ],
      "execution_count": 1,
      "outputs": [
        {
          "output_type": "stream",
          "text": [
            "3\n"
          ],
          "name": "stdout"
        }
      ]
    },
    {
      "cell_type": "markdown",
      "metadata": {
        "id": "zhHYIQ3ge2Ke",
        "colab_type": "text"
      },
      "source": [
        "#### 문자열 출력"
      ]
    },
    {
      "cell_type": "code",
      "metadata": {
        "id": "Ppo-ASObeNhh",
        "colab_type": "code",
        "colab": {
          "base_uri": "https://localhost:8080/",
          "height": 35
        },
        "outputId": "2342c40a-bd68-424b-9a9a-750ea3bb34fb"
      },
      "source": [
        "#########\n",
        "s1=\"Hello Python!\"\n",
        "print(s1)"
      ],
      "execution_count": 2,
      "outputs": [
        {
          "output_type": "stream",
          "text": [
            "Hello Python!\n"
          ],
          "name": "stdout"
        }
      ]
    },
    {
      "cell_type": "markdown",
      "metadata": {
        "id": "_BffIWSEe8CF",
        "colab_type": "text"
      },
      "source": [
        "#### list 선언과 출력"
      ]
    },
    {
      "cell_type": "code",
      "metadata": {
        "id": "zkautcsueas9",
        "colab_type": "code",
        "colab": {
          "base_uri": "https://localhost:8080/",
          "height": 71
        },
        "outputId": "410748d5-ee0c-4c3f-f752-b4b6e661d410"
      },
      "source": [
        "############\n",
        "x=[1,2,3]\n",
        "y=[4,5,6]\n",
        "print(x)\n",
        "print(x,y)\n",
        "x+y"
      ],
      "execution_count": 6,
      "outputs": [
        {
          "output_type": "stream",
          "text": [
            "[1, 2, 3]\n",
            "[1, 2, 3] [4, 5, 6]\n"
          ],
          "name": "stdout"
        },
        {
          "output_type": "execute_result",
          "data": {
            "text/plain": [
              "[1, 2, 3, 4, 5, 6]"
            ]
          },
          "metadata": {
            "tags": []
          },
          "execution_count": 6
        }
      ]
    },
    {
      "cell_type": "markdown",
      "metadata": {
        "id": "zLzgdmHXfJnN",
        "colab_type": "text"
      },
      "source": [
        "#### 함수 정의와 실행"
      ]
    },
    {
      "cell_type": "code",
      "metadata": {
        "id": "4IE2iKGYefoc",
        "colab_type": "code",
        "colab": {
          "base_uri": "https://localhost:8080/",
          "height": 53
        },
        "outputId": "5505f1f5-4276-4feb-da77-e2bf9e5718a0"
      },
      "source": [
        "# function\n",
        "def add(a,b):\n",
        "    return a+b\n",
        "#\n",
        "print(add(1,2))\n",
        "print(add(x,y))"
      ],
      "execution_count": 7,
      "outputs": [
        {
          "output_type": "stream",
          "text": [
            "3\n",
            "[1, 2, 3, 4, 5, 6]\n"
          ],
          "name": "stdout"
        }
      ]
    }
  ]
}