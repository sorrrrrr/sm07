{
  "nbformat": 4,
  "nbformat_minor": 0,
  "metadata": {
    "colab": {
      "name": "ch5_05_internal_functions.ipynb",
      "provenance": [],
      "include_colab_link": true
    },
    "kernelspec": {
      "name": "python3",
      "display_name": "Python 3"
    }
  },
  "cells": [
    {
      "cell_type": "markdown",
      "metadata": {
        "id": "view-in-github",
        "colab_type": "text"
      },
      "source": [
        "<a href=\"https://colab.research.google.com/github/sorrrrrr/sm07/blob/master/ch5/ch5_05_internal_functions.ipynb\" target=\"_parent\"><img src=\"https://colab.research.google.com/assets/colab-badge.svg\" alt=\"Open In Colab\"/></a>"
      ]
    },
    {
      "cell_type": "markdown",
      "metadata": {
        "id": "N-fZDerkll5k",
        "colab_type": "text"
      },
      "source": [
        "#내장함수"
      ]
    },
    {
      "cell_type": "code",
      "metadata": {
        "id": "_s17_AgPltlk",
        "colab_type": "code",
        "colab": {}
      },
      "source": [
        "# 파이썬 내장 함수는 미리 준비된 내부 모듈\n",
        "# 외부 모듈과 달리 import가 필요하지 않다."
      ],
      "execution_count": 0,
      "outputs": []
    },
    {
      "cell_type": "markdown",
      "metadata": {
        "id": "cJixraHrlog7",
        "colab_type": "text"
      },
      "source": [
        "##abs()"
      ]
    },
    {
      "cell_type": "code",
      "metadata": {
        "id": "oiVeDXsYlwDs",
        "colab_type": "code",
        "colab": {
          "base_uri": "https://localhost:8080/",
          "height": 52
        },
        "outputId": "8686302e-d391-4b25-ee09-55d04408c0ea"
      },
      "source": [
        "# abs(x)는 어떤 숫자를 입력받았을 때,\n",
        "# 그 숫자의 절댓값을 돌려주는 함수\n",
        "abs(3)\n",
        "abs(-3)\n",
        "abs(-1.2)\n",
        "\n",
        "print(\"all()\")\n",
        "###########################################################\n",
        "# all(x)는 반복 가능한(iterable) 자료형 x를 입력 인수로 받으며\n",
        "# 이 x가 모두 참이면 True, 거짓이 하나라도 있으면 False를 돌려준다.\n",
        "###########################################################\n",
        "#\n",
        "all([1, 2, 3])\n",
        "all([0, 1, 2, 3])\n"
      ],
      "execution_count": 2,
      "outputs": [
        {
          "output_type": "stream",
          "text": [
            "all()\n"
          ],
          "name": "stdout"
        },
        {
          "output_type": "execute_result",
          "data": {
            "text/plain": [
              "False"
            ]
          },
          "metadata": {
            "tags": []
          },
          "execution_count": 2
        }
      ]
    },
    {
      "cell_type": "code",
      "metadata": {
        "id": "ihg9TZSpl1Rj",
        "colab_type": "code",
        "colab": {
          "base_uri": "https://localhost:8080/",
          "height": 34
        },
        "outputId": "0347cab2-a385-44ae-865f-9d6908bb8b3e"
      },
      "source": [
        "# 참고\n",
        "bool([0, 1, 2, 3]), bool([0]), bool((0)), bool((0,))"
      ],
      "execution_count": 3,
      "outputs": [
        {
          "output_type": "execute_result",
          "data": {
            "text/plain": [
              "(True, True, False, True)"
            ]
          },
          "metadata": {
            "tags": []
          },
          "execution_count": 3
        }
      ]
    },
    {
      "cell_type": "markdown",
      "metadata": {
        "id": "lzoOEn4Pl2jT",
        "colab_type": "text"
      },
      "source": [
        "##any()"
      ]
    },
    {
      "cell_type": "code",
      "metadata": {
        "id": "_ITkyPtxl4y7",
        "colab_type": "code",
        "colab": {
          "base_uri": "https://localhost:8080/",
          "height": 34
        },
        "outputId": "e0d656ed-6e02-4547-eb20-2b8f8543a932"
      },
      "source": [
        "# any(x)는 x 중 하나라도 참이 있으면 True를 돌려주고,\n",
        "# x가 모두 거짓일 때에만 False를 돌려준다. all(x)의 반대이다.\n",
        "any([0, 1, 2, 3])\n",
        "\n",
        "any([0, \"\"])"
      ],
      "execution_count": 4,
      "outputs": [
        {
          "output_type": "execute_result",
          "data": {
            "text/plain": [
              "False"
            ]
          },
          "metadata": {
            "tags": []
          },
          "execution_count": 4
        }
      ]
    },
    {
      "cell_type": "markdown",
      "metadata": {
        "id": "tTFquBLLl7ZD",
        "colab_type": "text"
      },
      "source": [
        "##chr()"
      ]
    },
    {
      "cell_type": "code",
      "metadata": {
        "id": "sMEeMgWrl3li",
        "colab_type": "code",
        "colab": {
          "base_uri": "https://localhost:8080/",
          "height": 34
        },
        "outputId": "eb42e40c-de85-4664-ac07-ffa9a62941d3"
      },
      "source": [
        "# chr(i)는 아스키(ASCII) 코드 값을 입력받아\n",
        "# 그 코드에 해당하는 문자를 출력하는 함수이다.\n",
        "chr(97)\n",
        "chr(48)\n",
        "\n"
      ],
      "execution_count": 5,
      "outputs": [
        {
          "output_type": "execute_result",
          "data": {
            "text/plain": [
              "'0'"
            ]
          },
          "metadata": {
            "tags": []
          },
          "execution_count": 5
        }
      ]
    },
    {
      "cell_type": "markdown",
      "metadata": {
        "id": "wWIvGUail_GD",
        "colab_type": "text"
      },
      "source": [
        "##dir()"
      ]
    },
    {
      "cell_type": "code",
      "metadata": {
        "id": "R0d2Hchol_1-",
        "colab_type": "code",
        "colab": {
          "base_uri": "https://localhost:8080/",
          "height": 34
        },
        "outputId": "ede7b05e-9b67-4174-8a92-3d401b8dffee"
      },
      "source": [
        "# dir은 객체가 자체적으로 가지고 있는 변수나 함수를 보여 준다.\n",
        "dir([1, 2, 3])  # list object\n",
        "\n",
        "dir({\"1\": \"a\"})  # dict object\n",
        "type({\"1\": \"a\"})"
      ],
      "execution_count": 6,
      "outputs": [
        {
          "output_type": "execute_result",
          "data": {
            "text/plain": [
              "dict"
            ]
          },
          "metadata": {
            "tags": []
          },
          "execution_count": 6
        }
      ]
    },
    {
      "cell_type": "markdown",
      "metadata": {
        "id": "r7T0CsnmmDxT",
        "colab_type": "text"
      },
      "source": [
        "##divmod()"
      ]
    },
    {
      "cell_type": "code",
      "metadata": {
        "id": "mPAqo9admFFf",
        "colab_type": "code",
        "colab": {
          "base_uri": "https://localhost:8080/",
          "height": 34
        },
        "outputId": "e1482f6d-2130-4416-ab22-6d0cbdb27fa7"
      },
      "source": [
        "# divmod(a, b)는 2개의 숫자를 입력으로 받는다.\n",
        "# 그리고 a를 b로 나눈 몫과 나머지를 튜플 형태로 돌려주는 함수\n",
        "divmod(7, 3)  # 결과값을 tuple로 반환"
      ],
      "execution_count": 7,
      "outputs": [
        {
          "output_type": "execute_result",
          "data": {
            "text/plain": [
              "(2, 1)"
            ]
          },
          "metadata": {
            "tags": []
          },
          "execution_count": 7
        }
      ]
    },
    {
      "cell_type": "markdown",
      "metadata": {
        "id": "APgAiA--mJWT",
        "colab_type": "text"
      },
      "source": [
        "##enmuerate()"
      ]
    },
    {
      "cell_type": "code",
      "metadata": {
        "id": "Kqc14usGmLIB",
        "colab_type": "code",
        "colab": {
          "base_uri": "https://localhost:8080/",
          "height": 70
        },
        "outputId": "62b2c86e-1b8b-4291-bb58-359643a8e250"
      },
      "source": [
        "# enumerate는 \"열거하다\"라는 뜻이다.\n",
        "# 이 함수는 순서가 있는 자료형(리스트, 튜플, 문자열)을 입력으로\n",
        "# 받아 인덱스 값을 포함하는 enumerate 객체를 돌려준다.\n",
        "for i, name in enumerate([\"body\", \"foo\", \"bar\"]):\n",
        "    print(i, name)"
      ],
      "execution_count": 8,
      "outputs": [
        {
          "output_type": "stream",
          "text": [
            "0 body\n",
            "1 foo\n",
            "2 bar\n"
          ],
          "name": "stdout"
        }
      ]
    },
    {
      "cell_type": "markdown",
      "metadata": {
        "id": "U2ZE430xmNDq",
        "colab_type": "text"
      },
      "source": [
        "##eval()"
      ]
    },
    {
      "cell_type": "code",
      "metadata": {
        "id": "RAs1UI3TmP2E",
        "colab_type": "code",
        "colab": {
          "base_uri": "https://localhost:8080/",
          "height": 70
        },
        "outputId": "fbe69ffa-25dc-4bd5-b72d-9aea27c6cf12"
      },
      "source": [
        "# eval(expression )은 실행 가능한 문자열(1+2, 'hi' + 'a' 같은 것)을\n",
        "# 입력으로 받아 문자열을 실행한 결괏값을 돌려주는 함수\n",
        "print(eval(\"1+2\"))\n",
        "print(eval(\"'hi' + 'a'\"))\n",
        "print(eval(\"divmod(4, 3)\"))\n"
      ],
      "execution_count": 10,
      "outputs": [
        {
          "output_type": "stream",
          "text": [
            "3\n",
            "hia\n",
            "(1, 1)\n"
          ],
          "name": "stdout"
        }
      ]
    },
    {
      "cell_type": "markdown",
      "metadata": {
        "id": "8j1IGn2VmY_0",
        "colab_type": "text"
      },
      "source": [
        "##filter()"
      ]
    },
    {
      "cell_type": "code",
      "metadata": {
        "id": "eGzaz4gpmaWl",
        "colab_type": "code",
        "colab": {
          "base_uri": "https://localhost:8080/",
          "height": 34
        },
        "outputId": "cfbfefff-b70f-4129-be53-f0b4754c6ee4"
      },
      "source": [
        "# filter 함수는 첫 번째 인수로 함수 이름을,\n",
        "# 두 번째 인수로 그 함수에 차례로 들어갈 반복 가능한 자료형을 받는다.\n",
        "# 그리고 두 번째 인수인 반복 가능한 자료형 요소가 첫 번째 인수인\n",
        "# 함수에 입력되었을 때 반환 값이 참인 것만 묶어서(걸러 내서) 돌려준다.\n",
        "def positive(l):\n",
        "    result = []\n",
        "    for i in l:\n",
        "        if i > 0:\n",
        "            result.append(i)\n",
        "    return result\n",
        "\n",
        "\n",
        "print(positive([1, -3, 2, 0, -5, 6]))\n"
      ],
      "execution_count": 11,
      "outputs": [
        {
          "output_type": "stream",
          "text": [
            "[1, 2, 6]\n"
          ],
          "name": "stdout"
        }
      ]
    },
    {
      "cell_type": "code",
      "metadata": {
        "id": "jvh9TOEHmhXy",
        "colab_type": "code",
        "colab": {
          "base_uri": "https://localhost:8080/",
          "height": 34
        },
        "outputId": "7b5eec89-50bb-4743-b341-bae4d2cb5d68"
      },
      "source": [
        "# filter1.py\n",
        "def positive(x):\n",
        "    return x > 0\n",
        "\n",
        "\n",
        "list(filter(positive, [1, -3, 2, 0, -5, 6]))\n",
        "\n",
        "# lambda를 사용하면 더욱 간편하게 코드를 작성할 수 있다.\n",
        "\n",
        "list(filter(lambda x: x > 0, [1, -3, 2, 0, -5, 6]))"
      ],
      "execution_count": 12,
      "outputs": [
        {
          "output_type": "execute_result",
          "data": {
            "text/plain": [
              "[1, 2, 6]"
            ]
          },
          "metadata": {
            "tags": []
          },
          "execution_count": 12
        }
      ]
    },
    {
      "cell_type": "markdown",
      "metadata": {
        "id": "QHb212W-mkCC",
        "colab_type": "text"
      },
      "source": [
        "##hex()"
      ]
    },
    {
      "cell_type": "code",
      "metadata": {
        "id": "CRgdqxVxmkxq",
        "colab_type": "code",
        "colab": {
          "base_uri": "https://localhost:8080/",
          "height": 52
        },
        "outputId": "586744b2-4cf5-41b1-ae99-878fedb923ca"
      },
      "source": [
        "# hex(x)는 정수 값을 입력받아 16진수(hexadecimal)로\n",
        "# 변환하여 돌려주는 함수\n",
        "print(hex(10))\n",
        "print(hex(234))"
      ],
      "execution_count": 14,
      "outputs": [
        {
          "output_type": "stream",
          "text": [
            "0xa\n",
            "0xea\n"
          ],
          "name": "stdout"
        }
      ]
    },
    {
      "cell_type": "markdown",
      "metadata": {
        "id": "KGGus3QMmrYK",
        "colab_type": "text"
      },
      "source": [
        "##id()"
      ]
    },
    {
      "cell_type": "code",
      "metadata": {
        "id": "nNfwDamGmsFY",
        "colab_type": "code",
        "colab": {
          "base_uri": "https://localhost:8080/",
          "height": 87
        },
        "outputId": "65cc25d8-ac41-43f0-c25b-3061b1cb1879"
      },
      "source": [
        "# d(object)는 객체를 입력받아 객체의 고유 주소 값(레퍼런스)을 돌려주는 함수\n",
        "a = 3\n",
        "print(id(3))\n",
        "print(id(a))\n",
        "b = a\n",
        "print(id(b))\n",
        "print(id(4))  # different address"
      ],
      "execution_count": 16,
      "outputs": [
        {
          "output_type": "stream",
          "text": [
            "10914560\n",
            "10914560\n",
            "10914560\n",
            "10914592\n"
          ],
          "name": "stdout"
        }
      ]
    },
    {
      "cell_type": "markdown",
      "metadata": {
        "id": "nesTG33Xm02a",
        "colab_type": "text"
      },
      "source": [
        "##input()"
      ]
    },
    {
      "cell_type": "code",
      "metadata": {
        "id": "rSggCsp_m1eR",
        "colab_type": "code",
        "colab": {
          "base_uri": "https://localhost:8080/",
          "height": 70
        },
        "outputId": "41e04c9f-0f05-46a1-fd81-6e622b375b33"
      },
      "source": [
        "# input([prompt])은 사용자 입력을 받는 함수이다.\n",
        "# 매개변수로 문자열을 주면, 그 문자열은 프롬프트가 된다.\n",
        "a = input()\n",
        "b = input(\"Enter: \")\n",
        "b"
      ],
      "execution_count": 17,
      "outputs": [
        {
          "output_type": "stream",
          "text": [
            "d\n",
            "Enter: a\n"
          ],
          "name": "stdout"
        },
        {
          "output_type": "execute_result",
          "data": {
            "text/plain": [
              "'a'"
            ]
          },
          "metadata": {
            "tags": []
          },
          "execution_count": 17
        }
      ]
    },
    {
      "cell_type": "markdown",
      "metadata": {
        "id": "1I__Q-ORm8QD",
        "colab_type": "text"
      },
      "source": [
        "##int()"
      ]
    },
    {
      "cell_type": "code",
      "metadata": {
        "id": "4ySJfh19m9ej",
        "colab_type": "code",
        "colab": {
          "base_uri": "https://localhost:8080/",
          "height": 105
        },
        "outputId": "1fa50861-079d-4d56-b872-d328f5230cd8"
      },
      "source": [
        "# int(x)는 문자열 형태의 숫자나 소수점이 있는 숫자 등을\n",
        "# 정수 형태로 돌려주는 함수\n",
        "print(int(3))\n",
        "print(int(\"3\"))\n",
        "print(int(3.14))\n",
        "\n",
        "# int(x, radix)는 radix 진수로 표현된 문자열 x를 10진수로 변환\n",
        "print(int(\"11\", 2))\n",
        "#int(11, 2)  # TypeError:\n",
        "\n",
        "int(\"F\", 16)\n"
      ],
      "execution_count": 19,
      "outputs": [
        {
          "output_type": "stream",
          "text": [
            "3\n",
            "3\n",
            "3\n",
            "3\n"
          ],
          "name": "stdout"
        },
        {
          "output_type": "execute_result",
          "data": {
            "text/plain": [
              "15"
            ]
          },
          "metadata": {
            "tags": []
          },
          "execution_count": 19
        }
      ]
    },
    {
      "cell_type": "markdown",
      "metadata": {
        "id": "jcATTOdrnIXp",
        "colab_type": "text"
      },
      "source": [
        "##isinstance()"
      ]
    },
    {
      "cell_type": "code",
      "metadata": {
        "id": "YHcJjLfbnJmv",
        "colab_type": "code",
        "colab": {
          "base_uri": "https://localhost:8080/",
          "height": 34
        },
        "outputId": "c0f8b08a-daec-4ce6-da8f-6cc5f8cac749"
      },
      "source": [
        "# isinstance(object, class )는 첫 번째 인수로 인스턴스,\n",
        "# 두 번째 인수로 클래스 이름을 받는다.\n",
        "# 입력으로 받은 인스턴스가 그 클래스의 인스턴스인지를 판단하여\n",
        "# 참이면 True, 거짓이면 False를 돌려준다.\n",
        "class Person:\n",
        "    pass\n",
        "\n",
        "\n",
        "a = Person()\n",
        "isinstance(a, Person)\n",
        "\n",
        "b = 3\n",
        "isinstance(b, Person)\n",
        "\n"
      ],
      "execution_count": 20,
      "outputs": [
        {
          "output_type": "execute_result",
          "data": {
            "text/plain": [
              "False"
            ]
          },
          "metadata": {
            "tags": []
          },
          "execution_count": 20
        }
      ]
    },
    {
      "cell_type": "markdown",
      "metadata": {
        "id": "A1ABlfDSnM4B",
        "colab_type": "text"
      },
      "source": [
        "##len()"
      ]
    },
    {
      "cell_type": "code",
      "metadata": {
        "id": "UsJ9V6_LnLXY",
        "colab_type": "code",
        "colab": {
          "base_uri": "https://localhost:8080/",
          "height": 87
        },
        "outputId": "06c83ab4-1b94-40e3-91f3-f3cf0dca9295"
      },
      "source": [
        "# len(s)은 입력값 s의 길이(요소의 전체 개수)를 돌려주는 함수이다.\n",
        "print(len(\"python\"))\n",
        "print(len([1, 2, 3]))\n",
        "print(len((1, \"a\")))\n",
        "print(len({a: 3}))\n"
      ],
      "execution_count": 22,
      "outputs": [
        {
          "output_type": "stream",
          "text": [
            "6\n",
            "3\n",
            "2\n",
            "1\n"
          ],
          "name": "stdout"
        }
      ]
    },
    {
      "cell_type": "markdown",
      "metadata": {
        "id": "wxNUIxWfnWJQ",
        "colab_type": "text"
      },
      "source": [
        "##list()"
      ]
    },
    {
      "cell_type": "code",
      "metadata": {
        "id": "H22BbPmhnW0m",
        "colab_type": "code",
        "colab": {
          "base_uri": "https://localhost:8080/",
          "height": 52
        },
        "outputId": "a53bc279-2384-45c7-eb39-446fac13514a"
      },
      "source": [
        "# list(s)는 반복 가능한 자료형 s를 입력받아\n",
        "# 리스트로 만들어 돌려주는 함수\n",
        "print(list(\"python\"))\n",
        "list((1, 2, 3))\n"
      ],
      "execution_count": 23,
      "outputs": [
        {
          "output_type": "stream",
          "text": [
            "['p', 'y', 't', 'h', 'o', 'n']\n"
          ],
          "name": "stdout"
        },
        {
          "output_type": "execute_result",
          "data": {
            "text/plain": [
              "[1, 2, 3]"
            ]
          },
          "metadata": {
            "tags": []
          },
          "execution_count": 23
        }
      ]
    },
    {
      "cell_type": "markdown",
      "metadata": {
        "id": "xKtNaF0Anbn7",
        "colab_type": "text"
      },
      "source": [
        "##map()"
      ]
    },
    {
      "cell_type": "code",
      "metadata": {
        "id": "kRnwYSzXncRZ",
        "colab_type": "code",
        "colab": {
          "base_uri": "https://localhost:8080/",
          "height": 34
        },
        "outputId": "0fbec8e0-33fc-4773-83bb-856fa602357c"
      },
      "source": [
        "# map(f, iterable)은 함수(f)와 반복 가능한(iterable) 자료형을\n",
        "# 입력으로 받는다.\n",
        "# map은 입력받은 자료형의 각 요소를 함수 f가 수행한 결과를\n",
        "# 묶어서 돌려주는 함수\n",
        "\n",
        "# two_times.py\n",
        "def two_times(numberList):\n",
        "    result = []\n",
        "    for number in numberList:\n",
        "        result.append(number * 2)\n",
        "    return result\n",
        "\n",
        "\n",
        "result = two_times([1, 2, 3, 4])\n",
        "print(result)\n"
      ],
      "execution_count": 24,
      "outputs": [
        {
          "output_type": "stream",
          "text": [
            "[2, 4, 6, 8]\n"
          ],
          "name": "stdout"
        }
      ]
    },
    {
      "cell_type": "code",
      "metadata": {
        "id": "xgw0op9Snfyp",
        "colab_type": "code",
        "colab": {
          "base_uri": "https://localhost:8080/",
          "height": 34
        },
        "outputId": "34644cbc-a0bc-49db-85cc-220056829960"
      },
      "source": [
        "# map 함수를 사용\n",
        "def two_times(x):\n",
        "    return x * 2\n",
        "\n",
        "\n",
        "list(map(two_times, [1, 2, 3, 4]))\n"
      ],
      "execution_count": 26,
      "outputs": [
        {
          "output_type": "execute_result",
          "data": {
            "text/plain": [
              "[2, 4, 6, 8]"
            ]
          },
          "metadata": {
            "tags": []
          },
          "execution_count": 26
        }
      ]
    },
    {
      "cell_type": "code",
      "metadata": {
        "id": "AX9k--TmnmWK",
        "colab_type": "code",
        "colab": {
          "base_uri": "https://localhost:8080/",
          "height": 34
        },
        "outputId": "113a912a-2494-4b41-a0d1-72fa23dfe8e0"
      },
      "source": [
        "# lambda를 사용\n",
        "list(map(lambda a: a * 2, [1, 2, 3, 4]))"
      ],
      "execution_count": 27,
      "outputs": [
        {
          "output_type": "execute_result",
          "data": {
            "text/plain": [
              "[2, 4, 6, 8]"
            ]
          },
          "metadata": {
            "tags": []
          },
          "execution_count": 27
        }
      ]
    },
    {
      "cell_type": "markdown",
      "metadata": {
        "id": "g4zRPkTtnnpm",
        "colab_type": "text"
      },
      "source": [
        "##max()"
      ]
    },
    {
      "cell_type": "code",
      "metadata": {
        "id": "IhBr6WLSnoV0",
        "colab_type": "code",
        "colab": {
          "base_uri": "https://localhost:8080/",
          "height": 87
        },
        "outputId": "1c9213db-89e0-4cb6-f90a-05ee09f658e5"
      },
      "source": [
        "# max(iterable)는 인수로 반복 가능한 자료형을 입력받아\n",
        "# 그 최댓값을 돌려주는 함수\n",
        "print(max([1, 2, 3]))\n",
        "print(max(\"python\"))\n",
        "print(max(list(range(10))))\n",
        "max(range(10))"
      ],
      "execution_count": 28,
      "outputs": [
        {
          "output_type": "stream",
          "text": [
            "3\n",
            "y\n",
            "9\n"
          ],
          "name": "stdout"
        },
        {
          "output_type": "execute_result",
          "data": {
            "text/plain": [
              "9"
            ]
          },
          "metadata": {
            "tags": []
          },
          "execution_count": 28
        }
      ]
    },
    {
      "cell_type": "markdown",
      "metadata": {
        "id": "5XKAVWVrnurh",
        "colab_type": "text"
      },
      "source": [
        "##min()"
      ]
    },
    {
      "cell_type": "code",
      "metadata": {
        "id": "PCR_c3tInvPQ",
        "colab_type": "code",
        "colab": {
          "base_uri": "https://localhost:8080/",
          "height": 70
        },
        "outputId": "394a6306-c8f1-4da5-8b5a-95df7bcee69f"
      },
      "source": [
        "# min(iterable)은 max 함수와 반대로, 인수로 반복 가능한\n",
        "# 자료형을 입력받아 그 최솟값을 돌려주는 함수\n",
        "print(min([1, 2, 3]))\n",
        "print(min(\"python\"))\n",
        "print(min(range(10)))\n",
        "\n"
      ],
      "execution_count": 29,
      "outputs": [
        {
          "output_type": "stream",
          "text": [
            "1\n",
            "h\n",
            "0\n"
          ],
          "name": "stdout"
        }
      ]
    },
    {
      "cell_type": "markdown",
      "metadata": {
        "id": "8Ed3mY9fn2zB",
        "colab_type": "text"
      },
      "source": [
        "##oct()"
      ]
    },
    {
      "cell_type": "code",
      "metadata": {
        "id": "aC3FfRH4n3XD",
        "colab_type": "code",
        "colab": {
          "base_uri": "https://localhost:8080/",
          "height": 52
        },
        "outputId": "025d26d2-816d-453e-aa45-cbb1c31da274"
      },
      "source": [
        "# oct(x)는 정수 형태의 숫자를 8진수 문자열로 바꾸어 돌려주는 함수\n",
        "print(oct(9))\n",
        "print(oct(12345))"
      ],
      "execution_count": 30,
      "outputs": [
        {
          "output_type": "stream",
          "text": [
            "0o11\n",
            "0o30071\n"
          ],
          "name": "stdout"
        }
      ]
    },
    {
      "cell_type": "markdown",
      "metadata": {
        "id": "wKGs-tm3n9xv",
        "colab_type": "text"
      },
      "source": [
        "##ord()"
      ]
    },
    {
      "cell_type": "code",
      "metadata": {
        "id": "bfjko0gYn-Sc",
        "colab_type": "code",
        "colab": {}
      },
      "source": [
        ""
      ],
      "execution_count": 0,
      "outputs": []
    },
    {
      "cell_type": "code",
      "metadata": {
        "id": "-b2NCQqXn_K2",
        "colab_type": "code",
        "colab": {
          "base_uri": "https://localhost:8080/",
          "height": 52
        },
        "outputId": "3e5358b6-3b17-40a7-ac52-39382ffd2a87"
      },
      "source": [
        "# ord(c)는 문자의 아스키 코드 값을 돌려주는 함수\n",
        "# ※ ord 함수는 chr 함수와 반대이다.\n",
        "print(ord(\"a\"))  # chr(97)\n",
        "print(ord(\"0\"))"
      ],
      "execution_count": 31,
      "outputs": [
        {
          "output_type": "stream",
          "text": [
            "97\n",
            "48\n"
          ],
          "name": "stdout"
        }
      ]
    },
    {
      "cell_type": "markdown",
      "metadata": {
        "id": "kQ9N_2yvoC2n",
        "colab_type": "text"
      },
      "source": [
        "##pow()"
      ]
    },
    {
      "cell_type": "code",
      "metadata": {
        "id": "_l8qAgJKoDn6",
        "colab_type": "code",
        "colab": {
          "base_uri": "https://localhost:8080/",
          "height": 52
        },
        "outputId": "9953d759-9ed4-45d9-ab75-0fac99f9195a"
      },
      "source": [
        "# pow(x, y)는 x의 y 제곱한 결괏값을 돌려주는 함수\n",
        "print(pow(2, 4))  # 2**4\n",
        "print(pow(3, 4))  # 3**4"
      ],
      "execution_count": 32,
      "outputs": [
        {
          "output_type": "stream",
          "text": [
            "16\n",
            "81\n"
          ],
          "name": "stdout"
        }
      ]
    },
    {
      "cell_type": "markdown",
      "metadata": {
        "id": "s3kiiE4ZoJtP",
        "colab_type": "text"
      },
      "source": [
        "##range()"
      ]
    },
    {
      "cell_type": "code",
      "metadata": {
        "id": "ebUqsC49oKij",
        "colab_type": "code",
        "colab": {}
      },
      "source": [
        "# range([start,] stop [,step] )는 for문과 함께 자주 사용하는 함수\n",
        "# 이 함수는 입력받은 숫자에 해당하는 범위 값을 반복 가능한 객체로\n",
        "# 만들어 돌려준다."
      ],
      "execution_count": 0,
      "outputs": []
    },
    {
      "cell_type": "code",
      "metadata": {
        "id": "MfDmSLAmoM-H",
        "colab_type": "code",
        "colab": {
          "base_uri": "https://localhost:8080/",
          "height": 34
        },
        "outputId": "1d58f8c5-eadc-459e-865a-12c6b97fdcf0"
      },
      "source": [
        "# 인수가 하나일 경우\n",
        "list(range(5))"
      ],
      "execution_count": 33,
      "outputs": [
        {
          "output_type": "execute_result",
          "data": {
            "text/plain": [
              "[0, 1, 2, 3, 4]"
            ]
          },
          "metadata": {
            "tags": []
          },
          "execution_count": 33
        }
      ]
    },
    {
      "cell_type": "code",
      "metadata": {
        "id": "58k8EYUgoOmH",
        "colab_type": "code",
        "colab": {
          "base_uri": "https://localhost:8080/",
          "height": 34
        },
        "outputId": "6c3a912e-e13a-48a4-a779-1a74240b0f1f"
      },
      "source": [
        "# 인수가 2개일 경우\n",
        "list(range(5, 10))"
      ],
      "execution_count": 34,
      "outputs": [
        {
          "output_type": "execute_result",
          "data": {
            "text/plain": [
              "[5, 6, 7, 8, 9]"
            ]
          },
          "metadata": {
            "tags": []
          },
          "execution_count": 34
        }
      ]
    },
    {
      "cell_type": "code",
      "metadata": {
        "id": "We11d1xSoQm3",
        "colab_type": "code",
        "colab": {
          "base_uri": "https://localhost:8080/",
          "height": 52
        },
        "outputId": "b0bb61c7-3a15-4bca-e2c8-aee8903307aa"
      },
      "source": [
        "# 인수가 3개일 경우\n",
        "print(list(range(1, 10, 2)))\n",
        "\n",
        "list(range(0, -10, -1))"
      ],
      "execution_count": 35,
      "outputs": [
        {
          "output_type": "stream",
          "text": [
            "[1, 3, 5, 7, 9]\n"
          ],
          "name": "stdout"
        },
        {
          "output_type": "execute_result",
          "data": {
            "text/plain": [
              "[0, -1, -2, -3, -4, -5, -6, -7, -8, -9]"
            ]
          },
          "metadata": {
            "tags": []
          },
          "execution_count": 35
        }
      ]
    },
    {
      "cell_type": "markdown",
      "metadata": {
        "id": "RdFR1dswoS0X",
        "colab_type": "text"
      },
      "source": [
        "##round()"
      ]
    },
    {
      "cell_type": "code",
      "metadata": {
        "id": "eDF0hkyAoTuZ",
        "colab_type": "code",
        "colab": {
          "base_uri": "https://localhost:8080/",
          "height": 70
        },
        "outputId": "06fbc975-8be1-4822-f87d-6835887153b6"
      },
      "source": [
        "# round(number[, ndigits]) 함수는 숫자를 입력받아 반올림해 주는 함수\n",
        "# ※ [, ndigits]는 ndigits가 있을 수도 있고 없을 수도 있다는 의미이다.\n",
        "print(round(4.6))\n",
        "print(round(4.2))\n",
        "\n",
        "# 소수점 2자리까지만 반올림\n",
        "print(round(5.678, 2))\n"
      ],
      "execution_count": 36,
      "outputs": [
        {
          "output_type": "stream",
          "text": [
            "5\n",
            "4\n",
            "5.68\n"
          ],
          "name": "stdout"
        }
      ]
    },
    {
      "cell_type": "markdown",
      "metadata": {
        "id": "pMYctYkioauY",
        "colab_type": "text"
      },
      "source": [
        "##sorted()"
      ]
    },
    {
      "cell_type": "code",
      "metadata": {
        "id": "ZeWCcn_sobpT",
        "colab_type": "code",
        "colab": {
          "base_uri": "https://localhost:8080/",
          "height": 123
        },
        "outputId": "11a68bef-81b8-436d-d1fb-6909f057aea5"
      },
      "source": [
        "# sorted(iterable) 함수는 입력값을 정렬한 후\n",
        "# 그 결과를 리스트로 돌려주는 함수\n",
        "# 'reverse' 속성으로 정렬순서 반전\n",
        "print(sorted([3, 1, 2]))\n",
        "print(sorted([3, 1, 2], reverse=True))\n",
        "\n",
        "print(sorted([\"a\", \"c\", \"b\"]))\n",
        "print(sorted([\"a\", \"c\", \"b\"], reverse=True))\n",
        "\n",
        "print(sorted(\"zero\"))\n",
        "print(sorted((3, 2, 1)))  # list로 반환!!!"
      ],
      "execution_count": 37,
      "outputs": [
        {
          "output_type": "stream",
          "text": [
            "[1, 2, 3]\n",
            "[3, 2, 1]\n",
            "['a', 'b', 'c']\n",
            "['c', 'b', 'a']\n",
            "['e', 'o', 'r', 'z']\n",
            "[1, 2, 3]\n"
          ],
          "name": "stdout"
        }
      ]
    },
    {
      "cell_type": "markdown",
      "metadata": {
        "id": "uUShwKIDonke",
        "colab_type": "text"
      },
      "source": [
        "##str()"
      ]
    },
    {
      "cell_type": "code",
      "metadata": {
        "id": "tA2n90gqoo2F",
        "colab_type": "code",
        "colab": {
          "base_uri": "https://localhost:8080/",
          "height": 70
        },
        "outputId": "ee14796b-d494-4abe-dc98-c558c799847e"
      },
      "source": [
        "# str(object)은 문자열 형태로 객체를 변환하여 돌려주는 함수\n",
        "print(str(3))\n",
        "print(str(100))\n",
        "print(str(\"hello\".upper()))"
      ],
      "execution_count": 38,
      "outputs": [
        {
          "output_type": "stream",
          "text": [
            "3\n",
            "100\n",
            "HELLO\n"
          ],
          "name": "stdout"
        }
      ]
    },
    {
      "cell_type": "markdown",
      "metadata": {
        "id": "BuA5UTXzovCO",
        "colab_type": "text"
      },
      "source": [
        "##sum()"
      ]
    },
    {
      "cell_type": "code",
      "metadata": {
        "id": "qKuJADisovtR",
        "colab_type": "code",
        "colab": {
          "base_uri": "https://localhost:8080/",
          "height": 52
        },
        "outputId": "b02d5e40-bd84-45f9-cff9-c05f6169fa11"
      },
      "source": [
        "# sum(iterable) 은 입력받은 리스트나 튜플의\n",
        "# 모든 요소의 합을 돌려주는 함수\n",
        "print(sum([1, 2, 3]))\n",
        "print(sum((4, 5, 6)))"
      ],
      "execution_count": 39,
      "outputs": [
        {
          "output_type": "stream",
          "text": [
            "6\n",
            "15\n"
          ],
          "name": "stdout"
        }
      ]
    },
    {
      "cell_type": "markdown",
      "metadata": {
        "id": "N3cawEYZo0We",
        "colab_type": "text"
      },
      "source": [
        "##tuple"
      ]
    },
    {
      "cell_type": "code",
      "metadata": {
        "id": "aaqSI9vco1Lm",
        "colab_type": "code",
        "colab": {
          "base_uri": "https://localhost:8080/",
          "height": 52
        },
        "outputId": "d8149016-e8b2-43f3-ce38-9b32cb516505"
      },
      "source": [
        "# tuple(iterable)은 반복 가능한 자료형을 입력받아\n",
        "# 튜플 형태로 바꾸어 돌려주는 함수\n",
        "print(tuple(\"abc\"))\n",
        "print(tuple([1, 2, 3]))"
      ],
      "execution_count": 40,
      "outputs": [
        {
          "output_type": "stream",
          "text": [
            "('a', 'b', 'c')\n",
            "(1, 2, 3)\n"
          ],
          "name": "stdout"
        }
      ]
    },
    {
      "cell_type": "markdown",
      "metadata": {
        "id": "mCAXbrrxo7n1",
        "colab_type": "text"
      },
      "source": [
        "##type()"
      ]
    },
    {
      "cell_type": "code",
      "metadata": {
        "id": "jmqrn7ieo8Wa",
        "colab_type": "code",
        "colab": {
          "base_uri": "https://localhost:8080/",
          "height": 87
        },
        "outputId": "882d61e0-1580-40d6-efda-ee1b7d68579d"
      },
      "source": [
        "# type(object)은 입력값의 자료형이 무엇인지 알려 주는 함수\n",
        "print(type(\"abc\"))\n",
        "print(type([]))\n",
        "print(type({a: 4}))\n",
        "print(type(open(\"test\", \"w\")))"
      ],
      "execution_count": 42,
      "outputs": [
        {
          "output_type": "stream",
          "text": [
            "<class 'str'>\n",
            "<class 'list'>\n",
            "<class 'dict'>\n",
            "<class '_io.TextIOWrapper'>\n"
          ],
          "name": "stdout"
        }
      ]
    },
    {
      "cell_type": "markdown",
      "metadata": {
        "id": "f9HIspklpE8m",
        "colab_type": "text"
      },
      "source": [
        "##zip()"
      ]
    },
    {
      "cell_type": "code",
      "metadata": {
        "id": "Mc3Qr85vpFwy",
        "colab_type": "code",
        "colab": {
          "base_uri": "https://localhost:8080/",
          "height": 87
        },
        "outputId": "7ca8534a-51a3-439d-d8db-f714309846e3"
      },
      "source": [
        "# zip(*iterable)은 동일한 개수로 이루어진 자료형을\n",
        "# 묶어 주는 역할을 하는 함수\n",
        "print(list(zip([1, 2, 3], [4, 5, 6])))\n",
        "print(list(zip([1, 2, 3], [4, 5, 6], [7, 8, 9])))\n",
        "print(list(zip(\"abc\", \"def\")))\n",
        "print(list(zip([1, 2, 3], \"def\")))"
      ],
      "execution_count": 43,
      "outputs": [
        {
          "output_type": "stream",
          "text": [
            "[(1, 4), (2, 5), (3, 6)]\n",
            "[(1, 4, 7), (2, 5, 8), (3, 6, 9)]\n",
            "[('a', 'd'), ('b', 'e'), ('c', 'f')]\n",
            "[(1, 'd'), (2, 'e'), (3, 'f')]\n"
          ],
          "name": "stdout"
        }
      ]
    }
  ]
}