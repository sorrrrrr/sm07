{
  "nbformat": 4,
  "nbformat_minor": 0,
  "metadata": {
    "colab": {
      "name": "Untitled",
      "provenance": [],
      "include_colab_link": true
    },
    "kernelspec": {
      "name": "python3",
      "display_name": "Python 3"
    }
  },
  "cells": [
    {
      "cell_type": "markdown",
      "metadata": {
        "id": "view-in-github",
        "colab_type": "text"
      },
      "source": [
        "<a href=\"https://colab.research.google.com/github/sorrrrrr/sm07/blob/master/ch2/ch2_04_list.ipynb\" target=\"_parent\"><img src=\"https://colab.research.google.com/assets/colab-badge.svg\" alt=\"Open In Colab\"/></a>"
      ]
    },
    {
      "cell_type": "code",
      "metadata": {
        "id": "lbRW5jUamcQc",
        "colab_type": "code",
        "colab": {}
      },
      "source": [
        "ch2_04_list.py"
      ],
      "execution_count": 0,
      "outputs": []
    },
    {
      "cell_type": "code",
      "metadata": {
        "id": "GFMhWJDtmkaU",
        "colab_type": "code",
        "colab": {
          "base_uri": "https://localhost:8080/",
          "height": 53
        },
        "outputId": "6d9eb3ff-0c12-48be-c114-64c8ea02132d"
      },
      "source": [
        "print(\"리스트: list 란?\")\n",
        "odd = [1, 3, 5, 7, 9]\n",
        "odd"
      ],
      "execution_count": 12,
      "outputs": [
        {
          "output_type": "stream",
          "text": [
            "리스트: list 란?\n"
          ],
          "name": "stdout"
        },
        {
          "output_type": "execute_result",
          "data": {
            "text/plain": [
              "[1, 3, 5, 7, 9]"
            ]
          },
          "metadata": {
            "tags": []
          },
          "execution_count": 12
        }
      ]
    },
    {
      "cell_type": "markdown",
      "metadata": {
        "id": "J9ZMq414mnsK",
        "colab_type": "text"
      },
      "source": [
        "여러 가지 리스트"
      ]
    },
    {
      "cell_type": "code",
      "metadata": {
        "id": "ukMYbQJkmsDr",
        "colab_type": "code",
        "colab": {
          "base_uri": "https://localhost:8080/",
          "height": 125
        },
        "outputId": "cf17c575-0b8a-40cf-c30e-4a38e902eb04"
      },
      "source": [
        "a = []   # list 초기화\n",
        "print(a)\n",
        "b = [1, 2, 3]\n",
        "print(b)\n",
        "c = ['Life', 'is', 'too', 'short']\n",
        "print(c)\n",
        "d = [1, 2, 'Life', 'is']\n",
        "print(d)\n",
        "e = [1, 2, ['Life', 'is']]\n",
        "print(e)\n",
        "\n",
        "a = list()\n",
        "a  "
      ],
      "execution_count": 15,
      "outputs": [
        {
          "output_type": "stream",
          "text": [
            "[]\n",
            "[1, 2, 3]\n",
            "['Life', 'is', 'too', 'short']\n",
            "[1, 2, 'Life', 'is']\n",
            "[1, 2, ['Life', 'is']]\n"
          ],
          "name": "stdout"
        },
        {
          "output_type": "execute_result",
          "data": {
            "text/plain": [
              "[]"
            ]
          },
          "metadata": {
            "tags": []
          },
          "execution_count": 15
        }
      ]
    },
    {
      "cell_type": "markdown",
      "metadata": {
        "id": "lCK8W3lzm53i",
        "colab_type": "text"
      },
      "source": [
        "리스트 : 리스트의 인덱싱과 슬라이싱"
      ]
    },
    {
      "cell_type": "code",
      "metadata": {
        "id": "EhY6mig3m_Zb",
        "colab_type": "code",
        "colab": {
          "base_uri": "https://localhost:8080/",
          "height": 89
        },
        "outputId": "9b027cd3-bcc5-4a90-ce97-5703a45137be"
      },
      "source": [
        "a = [1, 2, 3]\n",
        "print(a)\n",
        "print(a[0])\n",
        "# a[3]\n",
        "print(a[0]+a[2])\n",
        "a[-1]"
      ],
      "execution_count": 18,
      "outputs": [
        {
          "output_type": "stream",
          "text": [
            "[1, 2, 3]\n",
            "1\n",
            "4\n"
          ],
          "name": "stdout"
        },
        {
          "output_type": "execute_result",
          "data": {
            "text/plain": [
              "3"
            ]
          },
          "metadata": {
            "tags": []
          },
          "execution_count": 18
        }
      ]
    },
    {
      "cell_type": "code",
      "metadata": {
        "id": "iX9nssNhnaCK",
        "colab_type": "code",
        "colab": {
          "base_uri": "https://localhost:8080/",
          "height": 107
        },
        "outputId": "a97d0374-b750-4f70-bdcb-568fcca8a172"
      },
      "source": [
        "a = [1, 2, 3, ['a', 'b', 'c']]\n",
        "print(a[0])\n",
        "print(a[3])\n",
        "print(a[-1])\n",
        "print(a[-1][0])\n",
        "a[-1][-1]"
      ],
      "execution_count": 22,
      "outputs": [
        {
          "output_type": "stream",
          "text": [
            "1\n",
            "['a', 'b', 'c']\n",
            "['a', 'b', 'c']\n",
            "a\n"
          ],
          "name": "stdout"
        },
        {
          "output_type": "execute_result",
          "data": {
            "text/plain": [
              "'c'"
            ]
          },
          "metadata": {
            "tags": []
          },
          "execution_count": 22
        }
      ]
    },
    {
      "cell_type": "markdown",
      "metadata": {
        "id": "Nwnyoe2znxu8",
        "colab_type": "text"
      },
      "source": [
        "삼중 리스트에서 인덱싱하기"
      ]
    },
    {
      "cell_type": "code",
      "metadata": {
        "id": "anqV4kWdn046",
        "colab_type": "code",
        "colab": {
          "base_uri": "https://localhost:8080/",
          "height": 71
        },
        "outputId": "d8d80e9a-927d-4e86-89fe-073e8ac688fe"
      },
      "source": [
        "a = [1, 2, ['a', 'b', ['Life', 'is']]]\n",
        "print(a[2])\n",
        "print(a[2][-1])\n",
        "a[2][-1][0]"
      ],
      "execution_count": 23,
      "outputs": [
        {
          "output_type": "stream",
          "text": [
            "['a', 'b', ['Life', 'is']]\n",
            "['Life', 'is']\n"
          ],
          "name": "stdout"
        },
        {
          "output_type": "execute_result",
          "data": {
            "text/plain": [
              "'Life'"
            ]
          },
          "metadata": {
            "tags": []
          },
          "execution_count": 23
        }
      ]
    },
    {
      "cell_type": "markdown",
      "metadata": {
        "id": "TE9j1HE-oAQT",
        "colab_type": "text"
      },
      "source": [
        "리스트의 슬라이싱"
      ]
    },
    {
      "cell_type": "code",
      "metadata": {
        "id": "unWHYCRjoBvb",
        "colab_type": "code",
        "colab": {
          "base_uri": "https://localhost:8080/",
          "height": 53
        },
        "outputId": "fb1b3593-effc-4b24-e720-3ed652a43609"
      },
      "source": [
        "a = [1, 2, 3, 4, 5]\n",
        "print(a[0:2])\n",
        "a = \"12345\"\n",
        "a[0:2]"
      ],
      "execution_count": 25,
      "outputs": [
        {
          "output_type": "stream",
          "text": [
            "[1, 2]\n"
          ],
          "name": "stdout"
        },
        {
          "output_type": "execute_result",
          "data": {
            "text/plain": [
              "'12'"
            ]
          },
          "metadata": {
            "tags": []
          },
          "execution_count": 25
        }
      ]
    },
    {
      "cell_type": "code",
      "metadata": {
        "id": "gHtB1WIkoPg6",
        "colab_type": "code",
        "colab": {
          "base_uri": "https://localhost:8080/",
          "height": 71
        },
        "outputId": "c88937f0-2af0-4256-8653-2c52d39b9148"
      },
      "source": [
        "a = [1, 2, 3, 4, 5]\n",
        "print(a[0:2])\n",
        "print(a[2:])\n",
        "print(a[0:4:2])"
      ],
      "execution_count": 26,
      "outputs": [
        {
          "output_type": "stream",
          "text": [
            "[1, 2]\n",
            "[3, 4, 5]\n",
            "[1, 3]\n"
          ],
          "name": "stdout"
        }
      ]
    },
    {
      "cell_type": "markdown",
      "metadata": {
        "id": "XCbA036KoWzZ",
        "colab_type": "text"
      },
      "source": [
        "중첩된 리스트에서 슬라이싱 하기"
      ]
    },
    {
      "cell_type": "code",
      "metadata": {
        "id": "8DVU2fvuoZMi",
        "colab_type": "code",
        "colab": {
          "base_uri": "https://localhost:8080/",
          "height": 53
        },
        "outputId": "222d8cf6-fdfb-4dc2-c0b1-753659146cec"
      },
      "source": [
        "a = [1, 2, 3, ['a', 'b', 'c'], 4, 5]\n",
        "print(a[2:5])\n",
        "a[3][:2]"
      ],
      "execution_count": 27,
      "outputs": [
        {
          "output_type": "stream",
          "text": [
            "[3, ['a', 'b', 'c'], 4]\n"
          ],
          "name": "stdout"
        },
        {
          "output_type": "execute_result",
          "data": {
            "text/plain": [
              "['a', 'b']"
            ]
          },
          "metadata": {
            "tags": []
          },
          "execution_count": 27
        }
      ]
    },
    {
      "cell_type": "markdown",
      "metadata": {
        "id": "0LeXgyF8oe8i",
        "colab_type": "text"
      },
      "source": [
        "리스트 : 인덱싱, 슬라이싱 연습"
      ]
    },
    {
      "cell_type": "code",
      "metadata": {
        "id": "dX-CKzDYoitL",
        "colab_type": "code",
        "colab": {
          "base_uri": "https://localhost:8080/",
          "height": 179
        },
        "outputId": "d3e48b1e-469e-494e-f55e-4248675a86a4"
      },
      "source": [
        "x = [1, 2, 3, 4, 5, 6, 7, 8, 9]\n",
        "print(x[0:3])\n",
        "print(x[3:])\n",
        "print(x[:6])\n",
        "print(x[0:6:2])\n",
        "print(x[-1])\n",
        "print(x[-3])\n",
        "print(x[:-3])\n",
        "print(x[::-1])\n",
        "x[-3::-1]"
      ],
      "execution_count": 28,
      "outputs": [
        {
          "output_type": "stream",
          "text": [
            "[1, 2, 3]\n",
            "[4, 5, 6, 7, 8, 9]\n",
            "[1, 2, 3, 4, 5, 6]\n",
            "[1, 3, 5]\n",
            "9\n",
            "7\n",
            "[1, 2, 3, 4, 5, 6]\n",
            "[9, 8, 7, 6, 5, 4, 3, 2, 1]\n"
          ],
          "name": "stdout"
        },
        {
          "output_type": "execute_result",
          "data": {
            "text/plain": [
              "[7, 6, 5, 4, 3, 2, 1]"
            ]
          },
          "metadata": {
            "tags": []
          },
          "execution_count": 28
        }
      ]
    },
    {
      "cell_type": "markdown",
      "metadata": {
        "id": "YIKZGMaJo4Ur",
        "colab_type": "text"
      },
      "source": [
        "**리스트 : 리스트 연산하기**"
      ]
    },
    {
      "cell_type": "markdown",
      "metadata": {
        "id": "KdPhghUFpA0s",
        "colab_type": "text"
      },
      "source": [
        "리스트 더하기"
      ]
    },
    {
      "cell_type": "code",
      "metadata": {
        "id": "mz7ub6QmpBf5",
        "colab_type": "code",
        "colab": {
          "base_uri": "https://localhost:8080/",
          "height": 35
        },
        "outputId": "132e9427-5f13-4827-f916-c846c9faa328"
      },
      "source": [
        "a = [1, 2, 3]\n",
        "b = [4, 5, 6]\n",
        "a + b"
      ],
      "execution_count": 29,
      "outputs": [
        {
          "output_type": "execute_result",
          "data": {
            "text/plain": [
              "[1, 2, 3, 4, 5, 6]"
            ]
          },
          "metadata": {
            "tags": []
          },
          "execution_count": 29
        }
      ]
    },
    {
      "cell_type": "markdown",
      "metadata": {
        "id": "clnQQQRspEY6",
        "colab_type": "text"
      },
      "source": [
        "리스트 반복하기"
      ]
    },
    {
      "cell_type": "code",
      "metadata": {
        "id": "3Qwi_LD_pFU7",
        "colab_type": "code",
        "colab": {
          "base_uri": "https://localhost:8080/",
          "height": 35
        },
        "outputId": "79a24a0e-d561-4997-81a3-8b509f65648d"
      },
      "source": [
        "a *3"
      ],
      "execution_count": 30,
      "outputs": [
        {
          "output_type": "execute_result",
          "data": {
            "text/plain": [
              "[1, 2, 3, 1, 2, 3, 1, 2, 3]"
            ]
          },
          "metadata": {
            "tags": []
          },
          "execution_count": 30
        }
      ]
    },
    {
      "cell_type": "markdown",
      "metadata": {
        "id": "ZAR8AV2dpJIl",
        "colab_type": "text"
      },
      "source": [
        "리스트 길이 구하기"
      ]
    },
    {
      "cell_type": "code",
      "metadata": {
        "id": "RJQbn5FdpKRg",
        "colab_type": "code",
        "colab": {
          "base_uri": "https://localhost:8080/",
          "height": 35
        },
        "outputId": "1a83e6bf-cd35-4728-f1c6-aa10b9d1cb52"
      },
      "source": [
        "len(a)"
      ],
      "execution_count": 31,
      "outputs": [
        {
          "output_type": "execute_result",
          "data": {
            "text/plain": [
              "3"
            ]
          },
          "metadata": {
            "tags": []
          },
          "execution_count": 31
        }
      ]
    },
    {
      "cell_type": "markdown",
      "metadata": {
        "id": "UYT3ro2npMSK",
        "colab_type": "text"
      },
      "source": [
        "초보자가 범하기 쉬운 리스트 연산 오류|"
      ]
    },
    {
      "cell_type": "code",
      "metadata": {
        "id": "Jl2sDOGUpOTC",
        "colab_type": "code",
        "colab": {
          "base_uri": "https://localhost:8080/",
          "height": 208
        },
        "outputId": "ee2b7d7f-7a13-401e-d224-9c9d03f69dd0"
      },
      "source": [
        "a = [1, 2, 3]\n",
        "print(a[2] + \"hi\")\n",
        "str(a[2]) + \"hi\""
      ],
      "execution_count": 33,
      "outputs": [
        {
          "output_type": "error",
          "ename": "TypeError",
          "evalue": "ignored",
          "traceback": [
            "\u001b[0;31m---------------------------------------------------------------------------\u001b[0m",
            "\u001b[0;31mTypeError\u001b[0m                                 Traceback (most recent call last)",
            "\u001b[0;32m<ipython-input-33-ad22c1511689>\u001b[0m in \u001b[0;36m<module>\u001b[0;34m()\u001b[0m\n\u001b[1;32m      1\u001b[0m \u001b[0ma\u001b[0m \u001b[0;34m=\u001b[0m \u001b[0;34m[\u001b[0m\u001b[0;36m1\u001b[0m\u001b[0;34m,\u001b[0m \u001b[0;36m2\u001b[0m\u001b[0;34m,\u001b[0m \u001b[0;36m3\u001b[0m\u001b[0;34m]\u001b[0m\u001b[0;34m\u001b[0m\u001b[0;34m\u001b[0m\u001b[0m\n\u001b[0;32m----> 2\u001b[0;31m \u001b[0mprint\u001b[0m\u001b[0;34m(\u001b[0m\u001b[0ma\u001b[0m\u001b[0;34m[\u001b[0m\u001b[0;36m2\u001b[0m\u001b[0;34m]\u001b[0m \u001b[0;34m+\u001b[0m \u001b[0;34m\"hi\"\u001b[0m\u001b[0;34m)\u001b[0m\u001b[0;34m\u001b[0m\u001b[0;34m\u001b[0m\u001b[0m\n\u001b[0m\u001b[1;32m      3\u001b[0m \u001b[0mstr\u001b[0m\u001b[0;34m(\u001b[0m\u001b[0ma\u001b[0m\u001b[0;34m[\u001b[0m\u001b[0;36m2\u001b[0m\u001b[0;34m]\u001b[0m\u001b[0;34m)\u001b[0m \u001b[0;34m+\u001b[0m \u001b[0;34m\"hi\"\u001b[0m\u001b[0;34m\u001b[0m\u001b[0;34m\u001b[0m\u001b[0m\n",
            "\u001b[0;31mTypeError\u001b[0m: unsupported operand type(s) for +: 'int' and 'str'"
          ]
        }
      ]
    },
    {
      "cell_type": "markdown",
      "metadata": {
        "id": "5AwY8aVWpVYU",
        "colab_type": "text"
      },
      "source": [
        "리스트의 수정과 삭제"
      ]
    },
    {
      "cell_type": "code",
      "metadata": {
        "id": "NyZOx3kTpWzh",
        "colab_type": "code",
        "colab": {
          "base_uri": "https://localhost:8080/",
          "height": 35
        },
        "outputId": "bd184e86-7282-438e-bb19-4519f727061e"
      },
      "source": [
        "a = [1, 2, 3]\n",
        "a[2] = 4 \n",
        "a"
      ],
      "execution_count": 34,
      "outputs": [
        {
          "output_type": "execute_result",
          "data": {
            "text/plain": [
              "[1, 2, 4]"
            ]
          },
          "metadata": {
            "tags": []
          },
          "execution_count": 34
        }
      ]
    },
    {
      "cell_type": "markdown",
      "metadata": {
        "id": "1ZM-c_khpcT6",
        "colab_type": "text"
      },
      "source": [
        "del 함수 사용해 리스트 요소 삭제하기"
      ]
    },
    {
      "cell_type": "code",
      "metadata": {
        "id": "vGXTS13qpeUH",
        "colab_type": "code",
        "colab": {
          "base_uri": "https://localhost:8080/",
          "height": 53
        },
        "outputId": "b809df02-11e5-4ffe-855b-19672fb21d10"
      },
      "source": [
        "a = [1, 2, 3]\n",
        "del a[1]\n",
        "print(a)\n",
        "a = [1, 2, 3, 4, 5]\n",
        "del a[2:]\n",
        "a"
      ],
      "execution_count": 35,
      "outputs": [
        {
          "output_type": "stream",
          "text": [
            "[1, 3]\n"
          ],
          "name": "stdout"
        },
        {
          "output_type": "execute_result",
          "data": {
            "text/plain": [
              "[1, 2]"
            ]
          },
          "metadata": {
            "tags": []
          },
          "execution_count": 35
        }
      ]
    }
  ]
}