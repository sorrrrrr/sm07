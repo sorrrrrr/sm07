{
  "nbformat": 4,
  "nbformat_minor": 0,
  "metadata": {
    "colab": {
      "name": "ch2_10_variable.ipynb",
      "provenance": [],
      "include_colab_link": true
    },
    "kernelspec": {
      "name": "python3",
      "display_name": "Python 3"
    }
  },
  "cells": [
    {
      "cell_type": "markdown",
      "metadata": {
        "id": "view-in-github",
        "colab_type": "text"
      },
      "source": [
        "<a href=\"https://colab.research.google.com/github/sorrrrrr/sm07/blob/master/ch2/ch2_10_variable.ipynb\" target=\"_parent\"><img src=\"https://colab.research.google.com/assets/colab-badge.svg\" alt=\"Open In Colab\"/></a>"
      ]
    },
    {
      "cell_type": "markdown",
      "metadata": {
        "id": "v5vKXz-k5ttG",
        "colab_type": "text"
      },
      "source": [
        "ch2_10_variable.py\n"
      ]
    },
    {
      "cell_type": "markdown",
      "metadata": {
        "id": "ByUWZN4U5vdP",
        "colab_type": "text"
      },
      "source": [
        "**변수**"
      ]
    },
    {
      "cell_type": "code",
      "metadata": {
        "id": "lr7WmxB95p2S",
        "colab_type": "code",
        "colab": {
          "base_uri": "https://localhost:8080/",
          "height": 35
        },
        "outputId": "f8129c21-8197-4e74-94ab-3c48d58e0286"
      },
      "source": [
        "a = [1, 2, 3]\n",
        "id(a) # a 변수가 가리키는 메모리의 주소"
      ],
      "execution_count": 1,
      "outputs": [
        {
          "output_type": "execute_result",
          "data": {
            "text/plain": [
              "139918758415432"
            ]
          },
          "metadata": {
            "tags": []
          },
          "execution_count": 1
        }
      ]
    },
    {
      "cell_type": "code",
      "metadata": {
        "id": "_Gb4284G565e",
        "colab_type": "code",
        "colab": {
          "base_uri": "https://localhost:8080/",
          "height": 35
        },
        "outputId": "4fe3fadc-fba2-4411-f87f-5c01ceef4c64"
      },
      "source": [
        "a = [1, 2, 3] #위랑 주소가 달라짐\n",
        "id(a)"
      ],
      "execution_count": 2,
      "outputs": [
        {
          "output_type": "execute_result",
          "data": {
            "text/plain": [
              "139918758416008"
            ]
          },
          "metadata": {
            "tags": []
          },
          "execution_count": 2
        }
      ]
    },
    {
      "cell_type": "code",
      "metadata": {
        "id": "lxRMzamr58Lu",
        "colab_type": "code",
        "colab": {
          "base_uri": "https://localhost:8080/",
          "height": 125
        },
        "outputId": "5d9fc8b7-08c6-4d57-b842-5167f0c4958e"
      },
      "source": [
        "b = a\n",
        "print(id(a), id(b))\n",
        "print(a is b)\n",
        "a[1] = 4\n",
        "print(a, b)\n",
        "print(a is b)\n",
        "b = [1, 2, 3]\n",
        "print(id(b))\n",
        "print(a is b)"
      ],
      "execution_count": 4,
      "outputs": [
        {
          "output_type": "stream",
          "text": [
            "139918758416008 139918758416008\n",
            "True\n",
            "[1, 4, 3] [1, 4, 3]\n",
            "True\n",
            "139919112594952\n",
            "False\n"
          ],
          "name": "stdout"
        }
      ]
    },
    {
      "cell_type": "markdown",
      "metadata": {
        "id": "zgngXKLi6Hjd",
        "colab_type": "text"
      },
      "source": [
        "b 변수를 생성할 때 a 변수의 값을 가져오면서\n",
        "a와는 다른 주소를 가리키도록 만들수는 없을까?\n",
        "다음 2가지 방법이 있다."
      ]
    },
    {
      "cell_type": "markdown",
      "metadata": {
        "id": "LAE4bExf6LJs",
        "colab_type": "text"
      },
      "source": [
        "1. [:] 이용"
      ]
    },
    {
      "cell_type": "code",
      "metadata": {
        "id": "AGGCNhmG6KdC",
        "colab_type": "code",
        "colab": {
          "base_uri": "https://localhost:8080/",
          "height": 35
        },
        "outputId": "643cfafa-4d28-43f9-a1f5-652deea3d3bd"
      },
      "source": [
        "a = [1, 2, 3]\n",
        "b = a[:]\n",
        "a[1] = 4\n",
        "print(a, b)"
      ],
      "execution_count": 6,
      "outputs": [
        {
          "output_type": "stream",
          "text": [
            "[1, 4, 3] [1, 2, 3]\n"
          ],
          "name": "stdout"
        }
      ]
    },
    {
      "cell_type": "markdown",
      "metadata": {
        "id": "HOHaBzzA581g",
        "colab_type": "text"
      },
      "source": [
        "2. copy 모듈 이용"
      ]
    },
    {
      "cell_type": "code",
      "metadata": {
        "id": "A0pCmnVl6WWa",
        "colab_type": "code",
        "colab": {
          "base_uri": "https://localhost:8080/",
          "height": 208
        },
        "outputId": "461dcedf-05f5-4bb0-ad3a-d56617ad9dcc"
      },
      "source": [
        "a = [1, 2, 3]\n",
        "b = copy(a)\n",
        "b is a, a is b"
      ],
      "execution_count": 12,
      "outputs": [
        {
          "output_type": "error",
          "ename": "TypeError",
          "evalue": "ignored",
          "traceback": [
            "\u001b[0;31m---------------------------------------------------------------------------\u001b[0m",
            "\u001b[0;31mTypeError\u001b[0m                                 Traceback (most recent call last)",
            "\u001b[0;32m<ipython-input-12-f2038702908d>\u001b[0m in \u001b[0;36m<module>\u001b[0;34m()\u001b[0m\n\u001b[1;32m      1\u001b[0m \u001b[0ma\u001b[0m \u001b[0;34m=\u001b[0m \u001b[0;34m[\u001b[0m\u001b[0;36m1\u001b[0m\u001b[0;34m,\u001b[0m \u001b[0;36m2\u001b[0m\u001b[0;34m,\u001b[0m \u001b[0;36m3\u001b[0m\u001b[0;34m]\u001b[0m\u001b[0;34m\u001b[0m\u001b[0;34m\u001b[0m\u001b[0m\n\u001b[0;32m----> 2\u001b[0;31m \u001b[0mb\u001b[0m \u001b[0;34m=\u001b[0m \u001b[0mcopy\u001b[0m\u001b[0;34m(\u001b[0m\u001b[0ma\u001b[0m\u001b[0;34m)\u001b[0m\u001b[0;34m\u001b[0m\u001b[0;34m\u001b[0m\u001b[0m\n\u001b[0m\u001b[1;32m      3\u001b[0m \u001b[0mb\u001b[0m \u001b[0;32mis\u001b[0m \u001b[0ma\u001b[0m\u001b[0;34m,\u001b[0m \u001b[0ma\u001b[0m \u001b[0;32mis\u001b[0m \u001b[0mb\u001b[0m\u001b[0;34m\u001b[0m\u001b[0;34m\u001b[0m\u001b[0m\n",
            "\u001b[0;31mTypeError\u001b[0m: 'module' object is not callable"
          ]
        }
      ]
    },
    {
      "cell_type": "markdown",
      "metadata": {
        "id": "QH-Tkjq-62Uo",
        "colab_type": "text"
      },
      "source": [
        "변수를 만드는 여러 가지 방법"
      ]
    },
    {
      "cell_type": "code",
      "metadata": {
        "id": "A8HxvX_e651r",
        "colab_type": "code",
        "colab": {
          "base_uri": "https://localhost:8080/",
          "height": 143
        },
        "outputId": "ea23b0da-f600-4acc-afd9-13572f997ba7"
      },
      "source": [
        "a, b = (\"python\", \"life\")\n",
        "print(a)\n",
        "print(b)\n",
        "print(a, b)\n",
        "\n",
        "[a, b] = [\"python\", \"life\"]\n",
        "print(a)\n",
        "print(b)\n",
        "\n",
        "a = 3\n",
        "b = 5\n",
        "a, b = b, a\n",
        "print(a)\n",
        "print(b)"
      ],
      "execution_count": 14,
      "outputs": [
        {
          "output_type": "stream",
          "text": [
            "python\n",
            "life\n",
            "python life\n",
            "python\n",
            "life\n",
            "5\n",
            "3\n"
          ],
          "name": "stdout"
        }
      ]
    }
  ]
}